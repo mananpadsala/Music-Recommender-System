{
  "nbformat": 4,
  "nbformat_minor": 0,
  "metadata": {
    "colab": {
      "provenance": []
    },
    "kernelspec": {
      "name": "python3",
      "display_name": "Python 3"
    },
    "language_info": {
      "name": "python"
    },
    "accelerator": "GPU"
  },
  "cells": [
    {
      "cell_type": "code",
      "execution_count": null,
      "metadata": {
        "id": "paPaguHaE3Q-"
      },
      "outputs": [],
      "source": [
        "import numpy as np\n",
        "import pandas as pd\n",
        "import matplotlib.pyplot as plt\n",
        "import seaborn as sns"
      ]
    },
    {
      "cell_type": "code",
      "source": [
        "sns.set()"
      ],
      "metadata": {
        "id": "0QvaTcKev3dB"
      },
      "execution_count": null,
      "outputs": []
    },
    {
      "cell_type": "code",
      "source": [
        "df = pd.read_csv('genres_v2.csv')\n",
        "pl = pd.read_csv('spotify_kaggle_playlists.csv')"
      ],
      "metadata": {
        "colab": {
          "base_uri": "https://localhost:8080/"
        },
        "id": "xxmRC5ZcFFYv",
        "outputId": "9fe9ee27-b446-404b-86f7-c9ca5f2c771e"
      },
      "execution_count": null,
      "outputs": [
        {
          "output_type": "stream",
          "name": "stderr",
          "text": [
            "/usr/local/lib/python3.7/dist-packages/IPython/core/interactiveshell.py:3326: DtypeWarning: Columns (19) have mixed types.Specify dtype option on import or set low_memory=False.\n",
            "  exec(code_obj, self.user_global_ns, self.user_ns)\n"
          ]
        }
      ]
    },
    {
      "cell_type": "code",
      "source": [
        "df2 = df.copy()"
      ],
      "metadata": {
        "colab": {
          "base_uri": "https://localhost:8080/"
        },
        "id": "1ABSUqmk_7nm",
        "outputId": "f76b07ad-c1e3-40d5-d875-287431e69c97"
      },
      "execution_count": null,
      "outputs": [
        {
          "output_type": "stream",
          "name": "stderr",
          "text": [
            "/usr/local/lib/python3.7/dist-packages/IPython/core/interactiveshell.py:3326: DtypeWarning: Columns (19) have mixed types.Specify dtype option on import or set low_memory=False.\n",
            "  exec(code_obj, self.user_global_ns, self.user_ns)\n"
          ]
        }
      ]
    },
    {
      "cell_type": "code",
      "source": [
        "df.describe()"
      ],
      "metadata": {
        "colab": {
          "base_uri": "https://localhost:8080/",
          "height": 364
        },
        "id": "rjAG2kSPF8De",
        "outputId": "1c40b2a8-225f-4c7e-f0d8-bad94051ddfe"
      },
      "execution_count": null,
      "outputs": [
        {
          "output_type": "execute_result",
          "data": {
            "text/plain": [
              "       danceability        energy           key      loudness          mode  \\\n",
              "count  42305.000000  42305.000000  42305.000000  42305.000000  42305.000000   \n",
              "mean       0.639364      0.762516      5.370240     -6.465442      0.549462   \n",
              "std        0.156617      0.183823      3.666145      2.941165      0.497553   \n",
              "min        0.065100      0.000243      0.000000    -33.357000      0.000000   \n",
              "25%        0.524000      0.632000      1.000000     -8.161000      0.000000   \n",
              "50%        0.646000      0.803000      6.000000     -6.234000      1.000000   \n",
              "75%        0.766000      0.923000      9.000000     -4.513000      1.000000   \n",
              "max        0.988000      1.000000     11.000000      3.148000      1.000000   \n",
              "\n",
              "        speechiness  acousticness  instrumentalness      liveness  \\\n",
              "count  42305.000000  42305.000000      42305.000000  42305.000000   \n",
              "mean       0.136561      0.096160          0.283048      0.214079   \n",
              "std        0.126168      0.170827          0.370791      0.175576   \n",
              "min        0.022700      0.000001          0.000000      0.010700   \n",
              "25%        0.049100      0.001730          0.000000      0.099600   \n",
              "50%        0.075500      0.016400          0.005940      0.135000   \n",
              "75%        0.193000      0.107000          0.722000      0.294000   \n",
              "max        0.946000      0.988000          0.989000      0.988000   \n",
              "\n",
              "            valence         tempo    duration_ms  time_signature    Unnamed: 0  \n",
              "count  42305.000000  42305.000000   42305.000000    42305.000000  20780.000000  \n",
              "mean       0.357101    147.474056  250865.846685        3.972580  10483.970645  \n",
              "std        0.233200     23.844623  102957.713571        0.268342   6052.359519  \n",
              "min        0.018700     57.967000   25600.000000        1.000000      0.000000  \n",
              "25%        0.161000    129.931000  179840.000000        4.000000   5255.750000  \n",
              "50%        0.322000    144.973000  224760.000000        4.000000  10479.500000  \n",
              "75%        0.522000    161.464000  301133.000000        4.000000  15709.250000  \n",
              "max        0.988000    220.290000  913052.000000        5.000000  20999.000000  "
            ],
            "text/html": [
              "\n",
              "  <div id=\"df-e5b461b6-b239-49b1-831c-981a7927a7cc\">\n",
              "    <div class=\"colab-df-container\">\n",
              "      <div>\n",
              "<style scoped>\n",
              "    .dataframe tbody tr th:only-of-type {\n",
              "        vertical-align: middle;\n",
              "    }\n",
              "\n",
              "    .dataframe tbody tr th {\n",
              "        vertical-align: top;\n",
              "    }\n",
              "\n",
              "    .dataframe thead th {\n",
              "        text-align: right;\n",
              "    }\n",
              "</style>\n",
              "<table border=\"1\" class=\"dataframe\">\n",
              "  <thead>\n",
              "    <tr style=\"text-align: right;\">\n",
              "      <th></th>\n",
              "      <th>danceability</th>\n",
              "      <th>energy</th>\n",
              "      <th>key</th>\n",
              "      <th>loudness</th>\n",
              "      <th>mode</th>\n",
              "      <th>speechiness</th>\n",
              "      <th>acousticness</th>\n",
              "      <th>instrumentalness</th>\n",
              "      <th>liveness</th>\n",
              "      <th>valence</th>\n",
              "      <th>tempo</th>\n",
              "      <th>duration_ms</th>\n",
              "      <th>time_signature</th>\n",
              "      <th>Unnamed: 0</th>\n",
              "    </tr>\n",
              "  </thead>\n",
              "  <tbody>\n",
              "    <tr>\n",
              "      <th>count</th>\n",
              "      <td>42305.000000</td>\n",
              "      <td>42305.000000</td>\n",
              "      <td>42305.000000</td>\n",
              "      <td>42305.000000</td>\n",
              "      <td>42305.000000</td>\n",
              "      <td>42305.000000</td>\n",
              "      <td>42305.000000</td>\n",
              "      <td>42305.000000</td>\n",
              "      <td>42305.000000</td>\n",
              "      <td>42305.000000</td>\n",
              "      <td>42305.000000</td>\n",
              "      <td>42305.000000</td>\n",
              "      <td>42305.000000</td>\n",
              "      <td>20780.000000</td>\n",
              "    </tr>\n",
              "    <tr>\n",
              "      <th>mean</th>\n",
              "      <td>0.639364</td>\n",
              "      <td>0.762516</td>\n",
              "      <td>5.370240</td>\n",
              "      <td>-6.465442</td>\n",
              "      <td>0.549462</td>\n",
              "      <td>0.136561</td>\n",
              "      <td>0.096160</td>\n",
              "      <td>0.283048</td>\n",
              "      <td>0.214079</td>\n",
              "      <td>0.357101</td>\n",
              "      <td>147.474056</td>\n",
              "      <td>250865.846685</td>\n",
              "      <td>3.972580</td>\n",
              "      <td>10483.970645</td>\n",
              "    </tr>\n",
              "    <tr>\n",
              "      <th>std</th>\n",
              "      <td>0.156617</td>\n",
              "      <td>0.183823</td>\n",
              "      <td>3.666145</td>\n",
              "      <td>2.941165</td>\n",
              "      <td>0.497553</td>\n",
              "      <td>0.126168</td>\n",
              "      <td>0.170827</td>\n",
              "      <td>0.370791</td>\n",
              "      <td>0.175576</td>\n",
              "      <td>0.233200</td>\n",
              "      <td>23.844623</td>\n",
              "      <td>102957.713571</td>\n",
              "      <td>0.268342</td>\n",
              "      <td>6052.359519</td>\n",
              "    </tr>\n",
              "    <tr>\n",
              "      <th>min</th>\n",
              "      <td>0.065100</td>\n",
              "      <td>0.000243</td>\n",
              "      <td>0.000000</td>\n",
              "      <td>-33.357000</td>\n",
              "      <td>0.000000</td>\n",
              "      <td>0.022700</td>\n",
              "      <td>0.000001</td>\n",
              "      <td>0.000000</td>\n",
              "      <td>0.010700</td>\n",
              "      <td>0.018700</td>\n",
              "      <td>57.967000</td>\n",
              "      <td>25600.000000</td>\n",
              "      <td>1.000000</td>\n",
              "      <td>0.000000</td>\n",
              "    </tr>\n",
              "    <tr>\n",
              "      <th>25%</th>\n",
              "      <td>0.524000</td>\n",
              "      <td>0.632000</td>\n",
              "      <td>1.000000</td>\n",
              "      <td>-8.161000</td>\n",
              "      <td>0.000000</td>\n",
              "      <td>0.049100</td>\n",
              "      <td>0.001730</td>\n",
              "      <td>0.000000</td>\n",
              "      <td>0.099600</td>\n",
              "      <td>0.161000</td>\n",
              "      <td>129.931000</td>\n",
              "      <td>179840.000000</td>\n",
              "      <td>4.000000</td>\n",
              "      <td>5255.750000</td>\n",
              "    </tr>\n",
              "    <tr>\n",
              "      <th>50%</th>\n",
              "      <td>0.646000</td>\n",
              "      <td>0.803000</td>\n",
              "      <td>6.000000</td>\n",
              "      <td>-6.234000</td>\n",
              "      <td>1.000000</td>\n",
              "      <td>0.075500</td>\n",
              "      <td>0.016400</td>\n",
              "      <td>0.005940</td>\n",
              "      <td>0.135000</td>\n",
              "      <td>0.322000</td>\n",
              "      <td>144.973000</td>\n",
              "      <td>224760.000000</td>\n",
              "      <td>4.000000</td>\n",
              "      <td>10479.500000</td>\n",
              "    </tr>\n",
              "    <tr>\n",
              "      <th>75%</th>\n",
              "      <td>0.766000</td>\n",
              "      <td>0.923000</td>\n",
              "      <td>9.000000</td>\n",
              "      <td>-4.513000</td>\n",
              "      <td>1.000000</td>\n",
              "      <td>0.193000</td>\n",
              "      <td>0.107000</td>\n",
              "      <td>0.722000</td>\n",
              "      <td>0.294000</td>\n",
              "      <td>0.522000</td>\n",
              "      <td>161.464000</td>\n",
              "      <td>301133.000000</td>\n",
              "      <td>4.000000</td>\n",
              "      <td>15709.250000</td>\n",
              "    </tr>\n",
              "    <tr>\n",
              "      <th>max</th>\n",
              "      <td>0.988000</td>\n",
              "      <td>1.000000</td>\n",
              "      <td>11.000000</td>\n",
              "      <td>3.148000</td>\n",
              "      <td>1.000000</td>\n",
              "      <td>0.946000</td>\n",
              "      <td>0.988000</td>\n",
              "      <td>0.989000</td>\n",
              "      <td>0.988000</td>\n",
              "      <td>0.988000</td>\n",
              "      <td>220.290000</td>\n",
              "      <td>913052.000000</td>\n",
              "      <td>5.000000</td>\n",
              "      <td>20999.000000</td>\n",
              "    </tr>\n",
              "  </tbody>\n",
              "</table>\n",
              "</div>\n",
              "      <button class=\"colab-df-convert\" onclick=\"convertToInteractive('df-e5b461b6-b239-49b1-831c-981a7927a7cc')\"\n",
              "              title=\"Convert this dataframe to an interactive table.\"\n",
              "              style=\"display:none;\">\n",
              "        \n",
              "  <svg xmlns=\"http://www.w3.org/2000/svg\" height=\"24px\"viewBox=\"0 0 24 24\"\n",
              "       width=\"24px\">\n",
              "    <path d=\"M0 0h24v24H0V0z\" fill=\"none\"/>\n",
              "    <path d=\"M18.56 5.44l.94 2.06.94-2.06 2.06-.94-2.06-.94-.94-2.06-.94 2.06-2.06.94zm-11 1L8.5 8.5l.94-2.06 2.06-.94-2.06-.94L8.5 2.5l-.94 2.06-2.06.94zm10 10l.94 2.06.94-2.06 2.06-.94-2.06-.94-.94-2.06-.94 2.06-2.06.94z\"/><path d=\"M17.41 7.96l-1.37-1.37c-.4-.4-.92-.59-1.43-.59-.52 0-1.04.2-1.43.59L10.3 9.45l-7.72 7.72c-.78.78-.78 2.05 0 2.83L4 21.41c.39.39.9.59 1.41.59.51 0 1.02-.2 1.41-.59l7.78-7.78 2.81-2.81c.8-.78.8-2.07 0-2.86zM5.41 20L4 18.59l7.72-7.72 1.47 1.35L5.41 20z\"/>\n",
              "  </svg>\n",
              "      </button>\n",
              "      \n",
              "  <style>\n",
              "    .colab-df-container {\n",
              "      display:flex;\n",
              "      flex-wrap:wrap;\n",
              "      gap: 12px;\n",
              "    }\n",
              "\n",
              "    .colab-df-convert {\n",
              "      background-color: #E8F0FE;\n",
              "      border: none;\n",
              "      border-radius: 50%;\n",
              "      cursor: pointer;\n",
              "      display: none;\n",
              "      fill: #1967D2;\n",
              "      height: 32px;\n",
              "      padding: 0 0 0 0;\n",
              "      width: 32px;\n",
              "    }\n",
              "\n",
              "    .colab-df-convert:hover {\n",
              "      background-color: #E2EBFA;\n",
              "      box-shadow: 0px 1px 2px rgba(60, 64, 67, 0.3), 0px 1px 3px 1px rgba(60, 64, 67, 0.15);\n",
              "      fill: #174EA6;\n",
              "    }\n",
              "\n",
              "    [theme=dark] .colab-df-convert {\n",
              "      background-color: #3B4455;\n",
              "      fill: #D2E3FC;\n",
              "    }\n",
              "\n",
              "    [theme=dark] .colab-df-convert:hover {\n",
              "      background-color: #434B5C;\n",
              "      box-shadow: 0px 1px 3px 1px rgba(0, 0, 0, 0.15);\n",
              "      filter: drop-shadow(0px 1px 2px rgba(0, 0, 0, 0.3));\n",
              "      fill: #FFFFFF;\n",
              "    }\n",
              "  </style>\n",
              "\n",
              "      <script>\n",
              "        const buttonEl =\n",
              "          document.querySelector('#df-e5b461b6-b239-49b1-831c-981a7927a7cc button.colab-df-convert');\n",
              "        buttonEl.style.display =\n",
              "          google.colab.kernel.accessAllowed ? 'block' : 'none';\n",
              "\n",
              "        async function convertToInteractive(key) {\n",
              "          const element = document.querySelector('#df-e5b461b6-b239-49b1-831c-981a7927a7cc');\n",
              "          const dataTable =\n",
              "            await google.colab.kernel.invokeFunction('convertToInteractive',\n",
              "                                                     [key], {});\n",
              "          if (!dataTable) return;\n",
              "\n",
              "          const docLinkHtml = 'Like what you see? Visit the ' +\n",
              "            '<a target=\"_blank\" href=https://colab.research.google.com/notebooks/data_table.ipynb>data table notebook</a>'\n",
              "            + ' to learn more about interactive tables.';\n",
              "          element.innerHTML = '';\n",
              "          dataTable['output_type'] = 'display_data';\n",
              "          await google.colab.output.renderOutput(dataTable, element);\n",
              "          const docLink = document.createElement('div');\n",
              "          docLink.innerHTML = docLinkHtml;\n",
              "          element.appendChild(docLink);\n",
              "        }\n",
              "      </script>\n",
              "    </div>\n",
              "  </div>\n",
              "  "
            ]
          },
          "metadata": {},
          "execution_count": 4
        }
      ]
    },
    {
      "cell_type": "code",
      "source": [
        "df.sample(5)"
      ],
      "metadata": {
        "colab": {
          "base_uri": "https://localhost:8080/",
          "height": 456
        },
        "id": "TJnszP1iGBIA",
        "outputId": "129bd208-c673-4219-c1a6-777972e00572"
      },
      "execution_count": null,
      "outputs": [
        {
          "output_type": "execute_result",
          "data": {
            "text/plain": [
              "       danceability  energy  key  loudness  mode  speechiness  acousticness  \\\n",
              "17639         0.849   0.669    1    -5.310     1       0.2980      0.065400   \n",
              "32618         0.588   0.959    1    -6.400     1       0.0576      0.000116   \n",
              "4519          0.601   0.598    0    -9.780     1       0.0341      0.284000   \n",
              "344           0.546   0.530    1    -9.059     1       0.2110      0.476000   \n",
              "10422         0.367   0.782    2    -9.674     1       0.0366      0.006900   \n",
              "\n",
              "       instrumentalness  liveness  valence  ...                      id  \\\n",
              "17639             0.000    0.5360   0.6520  ...  2EAdMSjtpvHog5EGr30ofa   \n",
              "32618             0.740    0.2740   0.0529  ...  3ASOEr0tFNMA4oJ3hVGax7   \n",
              "4519              0.914    0.1070   0.1790  ...  1adlfcbSW3sZ6tFWk62fOV   \n",
              "344               0.000    0.0955   0.2270  ...  5Tou8lYopj9qCIFBFBomZ5   \n",
              "10422             0.501    0.0969   0.2010  ...  5QTKooEvwEXuXJfc1bPJ61   \n",
              "\n",
              "                                        uri  \\\n",
              "17639  spotify:track:2EAdMSjtpvHog5EGr30ofa   \n",
              "32618  spotify:track:3ASOEr0tFNMA4oJ3hVGax7   \n",
              "4519   spotify:track:1adlfcbSW3sZ6tFWk62fOV   \n",
              "344    spotify:track:5Tou8lYopj9qCIFBFBomZ5   \n",
              "10422  spotify:track:5QTKooEvwEXuXJfc1bPJ61   \n",
              "\n",
              "                                              track_href  \\\n",
              "17639  https://api.spotify.com/v1/tracks/2EAdMSjtpvHo...   \n",
              "32618  https://api.spotify.com/v1/tracks/3ASOEr0tFNMA...   \n",
              "4519   https://api.spotify.com/v1/tracks/1adlfcbSW3sZ...   \n",
              "344    https://api.spotify.com/v1/tracks/5Tou8lYopj9q...   \n",
              "10422  https://api.spotify.com/v1/tracks/5QTKooEvwEXu...   \n",
              "\n",
              "                                            analysis_url duration_ms  \\\n",
              "17639  https://api.spotify.com/v1/audio-analysis/2EAd...      294347   \n",
              "32618  https://api.spotify.com/v1/audio-analysis/3ASO...      384104   \n",
              "4519   https://api.spotify.com/v1/audio-analysis/1adl...      164308   \n",
              "344    https://api.spotify.com/v1/audio-analysis/5Tou...      225080   \n",
              "10422  https://api.spotify.com/v1/audio-analysis/5QTK...      216846   \n",
              "\n",
              "      time_signature            genre   song_name Unnamed: 0  \\\n",
              "17639              4              RnB     Work It        NaN   \n",
              "32618              4        psytrance         NaN    11193.0   \n",
              "4519               4        Dark Trap        Here        NaN   \n",
              "344                4        Dark Trap  Yoshi City        NaN   \n",
              "10422              4  Underground Rap   ANDROMEDA        NaN   \n",
              "\n",
              "                                           title  \n",
              "17639                                        NaN  \n",
              "32618  PsyTrance 2020/ Progressive PsyTrance Mix  \n",
              "4519                                         NaN  \n",
              "344                                          NaN  \n",
              "10422                                        NaN  \n",
              "\n",
              "[5 rows x 22 columns]"
            ],
            "text/html": [
              "\n",
              "  <div id=\"df-b69be363-992b-4fa1-81d1-56a717238f25\">\n",
              "    <div class=\"colab-df-container\">\n",
              "      <div>\n",
              "<style scoped>\n",
              "    .dataframe tbody tr th:only-of-type {\n",
              "        vertical-align: middle;\n",
              "    }\n",
              "\n",
              "    .dataframe tbody tr th {\n",
              "        vertical-align: top;\n",
              "    }\n",
              "\n",
              "    .dataframe thead th {\n",
              "        text-align: right;\n",
              "    }\n",
              "</style>\n",
              "<table border=\"1\" class=\"dataframe\">\n",
              "  <thead>\n",
              "    <tr style=\"text-align: right;\">\n",
              "      <th></th>\n",
              "      <th>danceability</th>\n",
              "      <th>energy</th>\n",
              "      <th>key</th>\n",
              "      <th>loudness</th>\n",
              "      <th>mode</th>\n",
              "      <th>speechiness</th>\n",
              "      <th>acousticness</th>\n",
              "      <th>instrumentalness</th>\n",
              "      <th>liveness</th>\n",
              "      <th>valence</th>\n",
              "      <th>...</th>\n",
              "      <th>id</th>\n",
              "      <th>uri</th>\n",
              "      <th>track_href</th>\n",
              "      <th>analysis_url</th>\n",
              "      <th>duration_ms</th>\n",
              "      <th>time_signature</th>\n",
              "      <th>genre</th>\n",
              "      <th>song_name</th>\n",
              "      <th>Unnamed: 0</th>\n",
              "      <th>title</th>\n",
              "    </tr>\n",
              "  </thead>\n",
              "  <tbody>\n",
              "    <tr>\n",
              "      <th>17639</th>\n",
              "      <td>0.849</td>\n",
              "      <td>0.669</td>\n",
              "      <td>1</td>\n",
              "      <td>-5.310</td>\n",
              "      <td>1</td>\n",
              "      <td>0.2980</td>\n",
              "      <td>0.065400</td>\n",
              "      <td>0.000</td>\n",
              "      <td>0.5360</td>\n",
              "      <td>0.6520</td>\n",
              "      <td>...</td>\n",
              "      <td>2EAdMSjtpvHog5EGr30ofa</td>\n",
              "      <td>spotify:track:2EAdMSjtpvHog5EGr30ofa</td>\n",
              "      <td>https://api.spotify.com/v1/tracks/2EAdMSjtpvHo...</td>\n",
              "      <td>https://api.spotify.com/v1/audio-analysis/2EAd...</td>\n",
              "      <td>294347</td>\n",
              "      <td>4</td>\n",
              "      <td>RnB</td>\n",
              "      <td>Work It</td>\n",
              "      <td>NaN</td>\n",
              "      <td>NaN</td>\n",
              "    </tr>\n",
              "    <tr>\n",
              "      <th>32618</th>\n",
              "      <td>0.588</td>\n",
              "      <td>0.959</td>\n",
              "      <td>1</td>\n",
              "      <td>-6.400</td>\n",
              "      <td>1</td>\n",
              "      <td>0.0576</td>\n",
              "      <td>0.000116</td>\n",
              "      <td>0.740</td>\n",
              "      <td>0.2740</td>\n",
              "      <td>0.0529</td>\n",
              "      <td>...</td>\n",
              "      <td>3ASOEr0tFNMA4oJ3hVGax7</td>\n",
              "      <td>spotify:track:3ASOEr0tFNMA4oJ3hVGax7</td>\n",
              "      <td>https://api.spotify.com/v1/tracks/3ASOEr0tFNMA...</td>\n",
              "      <td>https://api.spotify.com/v1/audio-analysis/3ASO...</td>\n",
              "      <td>384104</td>\n",
              "      <td>4</td>\n",
              "      <td>psytrance</td>\n",
              "      <td>NaN</td>\n",
              "      <td>11193.0</td>\n",
              "      <td>PsyTrance 2020/ Progressive PsyTrance Mix</td>\n",
              "    </tr>\n",
              "    <tr>\n",
              "      <th>4519</th>\n",
              "      <td>0.601</td>\n",
              "      <td>0.598</td>\n",
              "      <td>0</td>\n",
              "      <td>-9.780</td>\n",
              "      <td>1</td>\n",
              "      <td>0.0341</td>\n",
              "      <td>0.284000</td>\n",
              "      <td>0.914</td>\n",
              "      <td>0.1070</td>\n",
              "      <td>0.1790</td>\n",
              "      <td>...</td>\n",
              "      <td>1adlfcbSW3sZ6tFWk62fOV</td>\n",
              "      <td>spotify:track:1adlfcbSW3sZ6tFWk62fOV</td>\n",
              "      <td>https://api.spotify.com/v1/tracks/1adlfcbSW3sZ...</td>\n",
              "      <td>https://api.spotify.com/v1/audio-analysis/1adl...</td>\n",
              "      <td>164308</td>\n",
              "      <td>4</td>\n",
              "      <td>Dark Trap</td>\n",
              "      <td>Here</td>\n",
              "      <td>NaN</td>\n",
              "      <td>NaN</td>\n",
              "    </tr>\n",
              "    <tr>\n",
              "      <th>344</th>\n",
              "      <td>0.546</td>\n",
              "      <td>0.530</td>\n",
              "      <td>1</td>\n",
              "      <td>-9.059</td>\n",
              "      <td>1</td>\n",
              "      <td>0.2110</td>\n",
              "      <td>0.476000</td>\n",
              "      <td>0.000</td>\n",
              "      <td>0.0955</td>\n",
              "      <td>0.2270</td>\n",
              "      <td>...</td>\n",
              "      <td>5Tou8lYopj9qCIFBFBomZ5</td>\n",
              "      <td>spotify:track:5Tou8lYopj9qCIFBFBomZ5</td>\n",
              "      <td>https://api.spotify.com/v1/tracks/5Tou8lYopj9q...</td>\n",
              "      <td>https://api.spotify.com/v1/audio-analysis/5Tou...</td>\n",
              "      <td>225080</td>\n",
              "      <td>4</td>\n",
              "      <td>Dark Trap</td>\n",
              "      <td>Yoshi City</td>\n",
              "      <td>NaN</td>\n",
              "      <td>NaN</td>\n",
              "    </tr>\n",
              "    <tr>\n",
              "      <th>10422</th>\n",
              "      <td>0.367</td>\n",
              "      <td>0.782</td>\n",
              "      <td>2</td>\n",
              "      <td>-9.674</td>\n",
              "      <td>1</td>\n",
              "      <td>0.0366</td>\n",
              "      <td>0.006900</td>\n",
              "      <td>0.501</td>\n",
              "      <td>0.0969</td>\n",
              "      <td>0.2010</td>\n",
              "      <td>...</td>\n",
              "      <td>5QTKooEvwEXuXJfc1bPJ61</td>\n",
              "      <td>spotify:track:5QTKooEvwEXuXJfc1bPJ61</td>\n",
              "      <td>https://api.spotify.com/v1/tracks/5QTKooEvwEXu...</td>\n",
              "      <td>https://api.spotify.com/v1/audio-analysis/5QTK...</td>\n",
              "      <td>216846</td>\n",
              "      <td>4</td>\n",
              "      <td>Underground Rap</td>\n",
              "      <td>ANDROMEDA</td>\n",
              "      <td>NaN</td>\n",
              "      <td>NaN</td>\n",
              "    </tr>\n",
              "  </tbody>\n",
              "</table>\n",
              "<p>5 rows × 22 columns</p>\n",
              "</div>\n",
              "      <button class=\"colab-df-convert\" onclick=\"convertToInteractive('df-b69be363-992b-4fa1-81d1-56a717238f25')\"\n",
              "              title=\"Convert this dataframe to an interactive table.\"\n",
              "              style=\"display:none;\">\n",
              "        \n",
              "  <svg xmlns=\"http://www.w3.org/2000/svg\" height=\"24px\"viewBox=\"0 0 24 24\"\n",
              "       width=\"24px\">\n",
              "    <path d=\"M0 0h24v24H0V0z\" fill=\"none\"/>\n",
              "    <path d=\"M18.56 5.44l.94 2.06.94-2.06 2.06-.94-2.06-.94-.94-2.06-.94 2.06-2.06.94zm-11 1L8.5 8.5l.94-2.06 2.06-.94-2.06-.94L8.5 2.5l-.94 2.06-2.06.94zm10 10l.94 2.06.94-2.06 2.06-.94-2.06-.94-.94-2.06-.94 2.06-2.06.94z\"/><path d=\"M17.41 7.96l-1.37-1.37c-.4-.4-.92-.59-1.43-.59-.52 0-1.04.2-1.43.59L10.3 9.45l-7.72 7.72c-.78.78-.78 2.05 0 2.83L4 21.41c.39.39.9.59 1.41.59.51 0 1.02-.2 1.41-.59l7.78-7.78 2.81-2.81c.8-.78.8-2.07 0-2.86zM5.41 20L4 18.59l7.72-7.72 1.47 1.35L5.41 20z\"/>\n",
              "  </svg>\n",
              "      </button>\n",
              "      \n",
              "  <style>\n",
              "    .colab-df-container {\n",
              "      display:flex;\n",
              "      flex-wrap:wrap;\n",
              "      gap: 12px;\n",
              "    }\n",
              "\n",
              "    .colab-df-convert {\n",
              "      background-color: #E8F0FE;\n",
              "      border: none;\n",
              "      border-radius: 50%;\n",
              "      cursor: pointer;\n",
              "      display: none;\n",
              "      fill: #1967D2;\n",
              "      height: 32px;\n",
              "      padding: 0 0 0 0;\n",
              "      width: 32px;\n",
              "    }\n",
              "\n",
              "    .colab-df-convert:hover {\n",
              "      background-color: #E2EBFA;\n",
              "      box-shadow: 0px 1px 2px rgba(60, 64, 67, 0.3), 0px 1px 3px 1px rgba(60, 64, 67, 0.15);\n",
              "      fill: #174EA6;\n",
              "    }\n",
              "\n",
              "    [theme=dark] .colab-df-convert {\n",
              "      background-color: #3B4455;\n",
              "      fill: #D2E3FC;\n",
              "    }\n",
              "\n",
              "    [theme=dark] .colab-df-convert:hover {\n",
              "      background-color: #434B5C;\n",
              "      box-shadow: 0px 1px 3px 1px rgba(0, 0, 0, 0.15);\n",
              "      filter: drop-shadow(0px 1px 2px rgba(0, 0, 0, 0.3));\n",
              "      fill: #FFFFFF;\n",
              "    }\n",
              "  </style>\n",
              "\n",
              "      <script>\n",
              "        const buttonEl =\n",
              "          document.querySelector('#df-b69be363-992b-4fa1-81d1-56a717238f25 button.colab-df-convert');\n",
              "        buttonEl.style.display =\n",
              "          google.colab.kernel.accessAllowed ? 'block' : 'none';\n",
              "\n",
              "        async function convertToInteractive(key) {\n",
              "          const element = document.querySelector('#df-b69be363-992b-4fa1-81d1-56a717238f25');\n",
              "          const dataTable =\n",
              "            await google.colab.kernel.invokeFunction('convertToInteractive',\n",
              "                                                     [key], {});\n",
              "          if (!dataTable) return;\n",
              "\n",
              "          const docLinkHtml = 'Like what you see? Visit the ' +\n",
              "            '<a target=\"_blank\" href=https://colab.research.google.com/notebooks/data_table.ipynb>data table notebook</a>'\n",
              "            + ' to learn more about interactive tables.';\n",
              "          element.innerHTML = '';\n",
              "          dataTable['output_type'] = 'display_data';\n",
              "          await google.colab.output.renderOutput(dataTable, element);\n",
              "          const docLink = document.createElement('div');\n",
              "          docLink.innerHTML = docLinkHtml;\n",
              "          element.appendChild(docLink);\n",
              "        }\n",
              "      </script>\n",
              "    </div>\n",
              "  </div>\n",
              "  "
            ]
          },
          "metadata": {},
          "execution_count": 5
        }
      ]
    },
    {
      "cell_type": "code",
      "source": [
        "pl.sample(2)"
      ],
      "metadata": {
        "colab": {
          "base_uri": "https://localhost:8080/",
          "height": 112
        },
        "id": "cdZqaV_wGH4i",
        "outputId": "3e4e95e3-3dee-4ce9-dc65-e50af202d358"
      },
      "execution_count": null,
      "outputs": [
        {
          "output_type": "execute_result",
          "data": {
            "text/plain": [
              "                  Playlist            Genre\n",
              "25  6GcssIqNfMVPhxQRlkc8hJ              RnB\n",
              "5   3CCC01CIQgca5cu14tgszj  Underground Rap"
            ],
            "text/html": [
              "\n",
              "  <div id=\"df-cc9afef2-709b-4d52-a6c7-38d4628e82db\">\n",
              "    <div class=\"colab-df-container\">\n",
              "      <div>\n",
              "<style scoped>\n",
              "    .dataframe tbody tr th:only-of-type {\n",
              "        vertical-align: middle;\n",
              "    }\n",
              "\n",
              "    .dataframe tbody tr th {\n",
              "        vertical-align: top;\n",
              "    }\n",
              "\n",
              "    .dataframe thead th {\n",
              "        text-align: right;\n",
              "    }\n",
              "</style>\n",
              "<table border=\"1\" class=\"dataframe\">\n",
              "  <thead>\n",
              "    <tr style=\"text-align: right;\">\n",
              "      <th></th>\n",
              "      <th>Playlist</th>\n",
              "      <th>Genre</th>\n",
              "    </tr>\n",
              "  </thead>\n",
              "  <tbody>\n",
              "    <tr>\n",
              "      <th>25</th>\n",
              "      <td>6GcssIqNfMVPhxQRlkc8hJ</td>\n",
              "      <td>RnB</td>\n",
              "    </tr>\n",
              "    <tr>\n",
              "      <th>5</th>\n",
              "      <td>3CCC01CIQgca5cu14tgszj</td>\n",
              "      <td>Underground Rap</td>\n",
              "    </tr>\n",
              "  </tbody>\n",
              "</table>\n",
              "</div>\n",
              "      <button class=\"colab-df-convert\" onclick=\"convertToInteractive('df-cc9afef2-709b-4d52-a6c7-38d4628e82db')\"\n",
              "              title=\"Convert this dataframe to an interactive table.\"\n",
              "              style=\"display:none;\">\n",
              "        \n",
              "  <svg xmlns=\"http://www.w3.org/2000/svg\" height=\"24px\"viewBox=\"0 0 24 24\"\n",
              "       width=\"24px\">\n",
              "    <path d=\"M0 0h24v24H0V0z\" fill=\"none\"/>\n",
              "    <path d=\"M18.56 5.44l.94 2.06.94-2.06 2.06-.94-2.06-.94-.94-2.06-.94 2.06-2.06.94zm-11 1L8.5 8.5l.94-2.06 2.06-.94-2.06-.94L8.5 2.5l-.94 2.06-2.06.94zm10 10l.94 2.06.94-2.06 2.06-.94-2.06-.94-.94-2.06-.94 2.06-2.06.94z\"/><path d=\"M17.41 7.96l-1.37-1.37c-.4-.4-.92-.59-1.43-.59-.52 0-1.04.2-1.43.59L10.3 9.45l-7.72 7.72c-.78.78-.78 2.05 0 2.83L4 21.41c.39.39.9.59 1.41.59.51 0 1.02-.2 1.41-.59l7.78-7.78 2.81-2.81c.8-.78.8-2.07 0-2.86zM5.41 20L4 18.59l7.72-7.72 1.47 1.35L5.41 20z\"/>\n",
              "  </svg>\n",
              "      </button>\n",
              "      \n",
              "  <style>\n",
              "    .colab-df-container {\n",
              "      display:flex;\n",
              "      flex-wrap:wrap;\n",
              "      gap: 12px;\n",
              "    }\n",
              "\n",
              "    .colab-df-convert {\n",
              "      background-color: #E8F0FE;\n",
              "      border: none;\n",
              "      border-radius: 50%;\n",
              "      cursor: pointer;\n",
              "      display: none;\n",
              "      fill: #1967D2;\n",
              "      height: 32px;\n",
              "      padding: 0 0 0 0;\n",
              "      width: 32px;\n",
              "    }\n",
              "\n",
              "    .colab-df-convert:hover {\n",
              "      background-color: #E2EBFA;\n",
              "      box-shadow: 0px 1px 2px rgba(60, 64, 67, 0.3), 0px 1px 3px 1px rgba(60, 64, 67, 0.15);\n",
              "      fill: #174EA6;\n",
              "    }\n",
              "\n",
              "    [theme=dark] .colab-df-convert {\n",
              "      background-color: #3B4455;\n",
              "      fill: #D2E3FC;\n",
              "    }\n",
              "\n",
              "    [theme=dark] .colab-df-convert:hover {\n",
              "      background-color: #434B5C;\n",
              "      box-shadow: 0px 1px 3px 1px rgba(0, 0, 0, 0.15);\n",
              "      filter: drop-shadow(0px 1px 2px rgba(0, 0, 0, 0.3));\n",
              "      fill: #FFFFFF;\n",
              "    }\n",
              "  </style>\n",
              "\n",
              "      <script>\n",
              "        const buttonEl =\n",
              "          document.querySelector('#df-cc9afef2-709b-4d52-a6c7-38d4628e82db button.colab-df-convert');\n",
              "        buttonEl.style.display =\n",
              "          google.colab.kernel.accessAllowed ? 'block' : 'none';\n",
              "\n",
              "        async function convertToInteractive(key) {\n",
              "          const element = document.querySelector('#df-cc9afef2-709b-4d52-a6c7-38d4628e82db');\n",
              "          const dataTable =\n",
              "            await google.colab.kernel.invokeFunction('convertToInteractive',\n",
              "                                                     [key], {});\n",
              "          if (!dataTable) return;\n",
              "\n",
              "          const docLinkHtml = 'Like what you see? Visit the ' +\n",
              "            '<a target=\"_blank\" href=https://colab.research.google.com/notebooks/data_table.ipynb>data table notebook</a>'\n",
              "            + ' to learn more about interactive tables.';\n",
              "          element.innerHTML = '';\n",
              "          dataTable['output_type'] = 'display_data';\n",
              "          await google.colab.output.renderOutput(dataTable, element);\n",
              "          const docLink = document.createElement('div');\n",
              "          docLink.innerHTML = docLinkHtml;\n",
              "          element.appendChild(docLink);\n",
              "        }\n",
              "      </script>\n",
              "    </div>\n",
              "  </div>\n",
              "  "
            ]
          },
          "metadata": {},
          "execution_count": 6
        }
      ]
    },
    {
      "cell_type": "markdown",
      "source": [
        "Features Details:\n",
        "https://developer.spotify.com/documentation/web-api/reference/#/operations/get-several-audio-features\n"
      ],
      "metadata": {
        "id": "jUnK34w2ati9"
      }
    },
    {
      "cell_type": "code",
      "source": [
        "df.isnull().sum()"
      ],
      "metadata": {
        "colab": {
          "base_uri": "https://localhost:8080/"
        },
        "id": "ibeW7y1fG8yf",
        "outputId": "0582f466-cf74-4802-fa7f-5c90b641a4c4"
      },
      "execution_count": null,
      "outputs": [
        {
          "output_type": "execute_result",
          "data": {
            "text/plain": [
              "danceability            0\n",
              "energy                  0\n",
              "key                     0\n",
              "loudness                0\n",
              "mode                    0\n",
              "speechiness             0\n",
              "acousticness            0\n",
              "instrumentalness        0\n",
              "liveness                0\n",
              "valence                 0\n",
              "tempo                   0\n",
              "type                    0\n",
              "id                      0\n",
              "uri                     0\n",
              "track_href              0\n",
              "analysis_url            0\n",
              "duration_ms             0\n",
              "time_signature          0\n",
              "genre                   0\n",
              "song_name           20786\n",
              "Unnamed: 0          21525\n",
              "title               21525\n",
              "dtype: int64"
            ]
          },
          "metadata": {},
          "execution_count": 7
        }
      ]
    },
    {
      "cell_type": "code",
      "source": [
        "df.isnull().sum()"
      ],
      "metadata": {
        "colab": {
          "base_uri": "https://localhost:8080/"
        },
        "id": "xbTTpdkrSliX",
        "outputId": "25429601-7e3f-489b-db49-05a1321c7c98"
      },
      "execution_count": null,
      "outputs": [
        {
          "output_type": "execute_result",
          "data": {
            "text/plain": [
              "danceability            0\n",
              "energy                  0\n",
              "key                     0\n",
              "loudness                0\n",
              "mode                    0\n",
              "speechiness             0\n",
              "acousticness            0\n",
              "instrumentalness        0\n",
              "liveness                0\n",
              "valence                 0\n",
              "tempo                   0\n",
              "type                    0\n",
              "id                      0\n",
              "uri                     0\n",
              "track_href              0\n",
              "analysis_url            0\n",
              "duration_ms             0\n",
              "time_signature          0\n",
              "genre                   0\n",
              "song_name           20786\n",
              "Unnamed: 0          21525\n",
              "title               21525\n",
              "dtype: int64"
            ]
          },
          "metadata": {},
          "execution_count": 8
        }
      ]
    },
    {
      "cell_type": "code",
      "source": [
        "df.dropna(axis=1,inplace=True)"
      ],
      "metadata": {
        "id": "Chx9kCk5UCl8"
      },
      "execution_count": null,
      "outputs": []
    },
    {
      "cell_type": "code",
      "source": [
        "df.info()"
      ],
      "metadata": {
        "colab": {
          "base_uri": "https://localhost:8080/"
        },
        "id": "xHyABMs1TqdH",
        "outputId": "52cfa873-9869-4e91-a2a9-b908f0cd686b"
      },
      "execution_count": null,
      "outputs": [
        {
          "output_type": "stream",
          "name": "stdout",
          "text": [
            "<class 'pandas.core.frame.DataFrame'>\n",
            "RangeIndex: 42305 entries, 0 to 42304\n",
            "Data columns (total 19 columns):\n",
            " #   Column            Non-Null Count  Dtype  \n",
            "---  ------            --------------  -----  \n",
            " 0   danceability      42305 non-null  float64\n",
            " 1   energy            42305 non-null  float64\n",
            " 2   key               42305 non-null  int64  \n",
            " 3   loudness          42305 non-null  float64\n",
            " 4   mode              42305 non-null  int64  \n",
            " 5   speechiness       42305 non-null  float64\n",
            " 6   acousticness      42305 non-null  float64\n",
            " 7   instrumentalness  42305 non-null  float64\n",
            " 8   liveness          42305 non-null  float64\n",
            " 9   valence           42305 non-null  float64\n",
            " 10  tempo             42305 non-null  float64\n",
            " 11  type              42305 non-null  object \n",
            " 12  id                42305 non-null  object \n",
            " 13  uri               42305 non-null  object \n",
            " 14  track_href        42305 non-null  object \n",
            " 15  analysis_url      42305 non-null  object \n",
            " 16  duration_ms       42305 non-null  int64  \n",
            " 17  time_signature    42305 non-null  int64  \n",
            " 18  genre             42305 non-null  object \n",
            "dtypes: float64(9), int64(4), object(6)\n",
            "memory usage: 6.1+ MB\n"
          ]
        }
      ]
    },
    {
      "cell_type": "code",
      "source": [
        "numerical_features = [ features for features in df.columns if df[features].dtypes != 'O']\n",
        "df[numerical_features].sample(5)"
      ],
      "metadata": {
        "colab": {
          "base_uri": "https://localhost:8080/",
          "height": 250
        },
        "id": "88c__94TVXt4",
        "outputId": "614515dc-0d6d-4c26-888b-35be801d2155"
      },
      "execution_count": null,
      "outputs": [
        {
          "output_type": "execute_result",
          "data": {
            "text/plain": [
              "       danceability  energy  key  loudness  mode  speechiness  acousticness  \\\n",
              "33708         0.716   0.951    1     0.321     1       0.3920       0.01820   \n",
              "28963         0.421   0.948    7    -4.437     1       0.0351       0.00407   \n",
              "25309         0.672   0.968    2    -6.375     1       0.0693       0.00263   \n",
              "33852         0.696   0.846    4    -1.305     1       0.2380       0.04610   \n",
              "5019          0.779   0.563    0    -9.488     1       0.3760       0.05640   \n",
              "\n",
              "       instrumentalness  liveness  valence    tempo  duration_ms  \\\n",
              "33708            0.0000     0.362    0.587  150.006       233804   \n",
              "28963            0.9420     0.132    0.173  129.981       291817   \n",
              "25309            0.9040     0.114    0.190  125.919       305682   \n",
              "33852            0.0107     0.176    0.498  150.056       199200   \n",
              "5019             0.0000     0.183    0.504  184.904       155742   \n",
              "\n",
              "       time_signature  \n",
              "33708               4  \n",
              "28963               4  \n",
              "25309               4  \n",
              "33852               4  \n",
              "5019                4  "
            ],
            "text/html": [
              "\n",
              "  <div id=\"df-2f5330ec-b463-44f1-be39-bc793cba97df\">\n",
              "    <div class=\"colab-df-container\">\n",
              "      <div>\n",
              "<style scoped>\n",
              "    .dataframe tbody tr th:only-of-type {\n",
              "        vertical-align: middle;\n",
              "    }\n",
              "\n",
              "    .dataframe tbody tr th {\n",
              "        vertical-align: top;\n",
              "    }\n",
              "\n",
              "    .dataframe thead th {\n",
              "        text-align: right;\n",
              "    }\n",
              "</style>\n",
              "<table border=\"1\" class=\"dataframe\">\n",
              "  <thead>\n",
              "    <tr style=\"text-align: right;\">\n",
              "      <th></th>\n",
              "      <th>danceability</th>\n",
              "      <th>energy</th>\n",
              "      <th>key</th>\n",
              "      <th>loudness</th>\n",
              "      <th>mode</th>\n",
              "      <th>speechiness</th>\n",
              "      <th>acousticness</th>\n",
              "      <th>instrumentalness</th>\n",
              "      <th>liveness</th>\n",
              "      <th>valence</th>\n",
              "      <th>tempo</th>\n",
              "      <th>duration_ms</th>\n",
              "      <th>time_signature</th>\n",
              "    </tr>\n",
              "  </thead>\n",
              "  <tbody>\n",
              "    <tr>\n",
              "      <th>33708</th>\n",
              "      <td>0.716</td>\n",
              "      <td>0.951</td>\n",
              "      <td>1</td>\n",
              "      <td>0.321</td>\n",
              "      <td>1</td>\n",
              "      <td>0.3920</td>\n",
              "      <td>0.01820</td>\n",
              "      <td>0.0000</td>\n",
              "      <td>0.362</td>\n",
              "      <td>0.587</td>\n",
              "      <td>150.006</td>\n",
              "      <td>233804</td>\n",
              "      <td>4</td>\n",
              "    </tr>\n",
              "    <tr>\n",
              "      <th>28963</th>\n",
              "      <td>0.421</td>\n",
              "      <td>0.948</td>\n",
              "      <td>7</td>\n",
              "      <td>-4.437</td>\n",
              "      <td>1</td>\n",
              "      <td>0.0351</td>\n",
              "      <td>0.00407</td>\n",
              "      <td>0.9420</td>\n",
              "      <td>0.132</td>\n",
              "      <td>0.173</td>\n",
              "      <td>129.981</td>\n",
              "      <td>291817</td>\n",
              "      <td>4</td>\n",
              "    </tr>\n",
              "    <tr>\n",
              "      <th>25309</th>\n",
              "      <td>0.672</td>\n",
              "      <td>0.968</td>\n",
              "      <td>2</td>\n",
              "      <td>-6.375</td>\n",
              "      <td>1</td>\n",
              "      <td>0.0693</td>\n",
              "      <td>0.00263</td>\n",
              "      <td>0.9040</td>\n",
              "      <td>0.114</td>\n",
              "      <td>0.190</td>\n",
              "      <td>125.919</td>\n",
              "      <td>305682</td>\n",
              "      <td>4</td>\n",
              "    </tr>\n",
              "    <tr>\n",
              "      <th>33852</th>\n",
              "      <td>0.696</td>\n",
              "      <td>0.846</td>\n",
              "      <td>4</td>\n",
              "      <td>-1.305</td>\n",
              "      <td>1</td>\n",
              "      <td>0.2380</td>\n",
              "      <td>0.04610</td>\n",
              "      <td>0.0107</td>\n",
              "      <td>0.176</td>\n",
              "      <td>0.498</td>\n",
              "      <td>150.056</td>\n",
              "      <td>199200</td>\n",
              "      <td>4</td>\n",
              "    </tr>\n",
              "    <tr>\n",
              "      <th>5019</th>\n",
              "      <td>0.779</td>\n",
              "      <td>0.563</td>\n",
              "      <td>0</td>\n",
              "      <td>-9.488</td>\n",
              "      <td>1</td>\n",
              "      <td>0.3760</td>\n",
              "      <td>0.05640</td>\n",
              "      <td>0.0000</td>\n",
              "      <td>0.183</td>\n",
              "      <td>0.504</td>\n",
              "      <td>184.904</td>\n",
              "      <td>155742</td>\n",
              "      <td>4</td>\n",
              "    </tr>\n",
              "  </tbody>\n",
              "</table>\n",
              "</div>\n",
              "      <button class=\"colab-df-convert\" onclick=\"convertToInteractive('df-2f5330ec-b463-44f1-be39-bc793cba97df')\"\n",
              "              title=\"Convert this dataframe to an interactive table.\"\n",
              "              style=\"display:none;\">\n",
              "        \n",
              "  <svg xmlns=\"http://www.w3.org/2000/svg\" height=\"24px\"viewBox=\"0 0 24 24\"\n",
              "       width=\"24px\">\n",
              "    <path d=\"M0 0h24v24H0V0z\" fill=\"none\"/>\n",
              "    <path d=\"M18.56 5.44l.94 2.06.94-2.06 2.06-.94-2.06-.94-.94-2.06-.94 2.06-2.06.94zm-11 1L8.5 8.5l.94-2.06 2.06-.94-2.06-.94L8.5 2.5l-.94 2.06-2.06.94zm10 10l.94 2.06.94-2.06 2.06-.94-2.06-.94-.94-2.06-.94 2.06-2.06.94z\"/><path d=\"M17.41 7.96l-1.37-1.37c-.4-.4-.92-.59-1.43-.59-.52 0-1.04.2-1.43.59L10.3 9.45l-7.72 7.72c-.78.78-.78 2.05 0 2.83L4 21.41c.39.39.9.59 1.41.59.51 0 1.02-.2 1.41-.59l7.78-7.78 2.81-2.81c.8-.78.8-2.07 0-2.86zM5.41 20L4 18.59l7.72-7.72 1.47 1.35L5.41 20z\"/>\n",
              "  </svg>\n",
              "      </button>\n",
              "      \n",
              "  <style>\n",
              "    .colab-df-container {\n",
              "      display:flex;\n",
              "      flex-wrap:wrap;\n",
              "      gap: 12px;\n",
              "    }\n",
              "\n",
              "    .colab-df-convert {\n",
              "      background-color: #E8F0FE;\n",
              "      border: none;\n",
              "      border-radius: 50%;\n",
              "      cursor: pointer;\n",
              "      display: none;\n",
              "      fill: #1967D2;\n",
              "      height: 32px;\n",
              "      padding: 0 0 0 0;\n",
              "      width: 32px;\n",
              "    }\n",
              "\n",
              "    .colab-df-convert:hover {\n",
              "      background-color: #E2EBFA;\n",
              "      box-shadow: 0px 1px 2px rgba(60, 64, 67, 0.3), 0px 1px 3px 1px rgba(60, 64, 67, 0.15);\n",
              "      fill: #174EA6;\n",
              "    }\n",
              "\n",
              "    [theme=dark] .colab-df-convert {\n",
              "      background-color: #3B4455;\n",
              "      fill: #D2E3FC;\n",
              "    }\n",
              "\n",
              "    [theme=dark] .colab-df-convert:hover {\n",
              "      background-color: #434B5C;\n",
              "      box-shadow: 0px 1px 3px 1px rgba(0, 0, 0, 0.15);\n",
              "      filter: drop-shadow(0px 1px 2px rgba(0, 0, 0, 0.3));\n",
              "      fill: #FFFFFF;\n",
              "    }\n",
              "  </style>\n",
              "\n",
              "      <script>\n",
              "        const buttonEl =\n",
              "          document.querySelector('#df-2f5330ec-b463-44f1-be39-bc793cba97df button.colab-df-convert');\n",
              "        buttonEl.style.display =\n",
              "          google.colab.kernel.accessAllowed ? 'block' : 'none';\n",
              "\n",
              "        async function convertToInteractive(key) {\n",
              "          const element = document.querySelector('#df-2f5330ec-b463-44f1-be39-bc793cba97df');\n",
              "          const dataTable =\n",
              "            await google.colab.kernel.invokeFunction('convertToInteractive',\n",
              "                                                     [key], {});\n",
              "          if (!dataTable) return;\n",
              "\n",
              "          const docLinkHtml = 'Like what you see? Visit the ' +\n",
              "            '<a target=\"_blank\" href=https://colab.research.google.com/notebooks/data_table.ipynb>data table notebook</a>'\n",
              "            + ' to learn more about interactive tables.';\n",
              "          element.innerHTML = '';\n",
              "          dataTable['output_type'] = 'display_data';\n",
              "          await google.colab.output.renderOutput(dataTable, element);\n",
              "          const docLink = document.createElement('div');\n",
              "          docLink.innerHTML = docLinkHtml;\n",
              "          element.appendChild(docLink);\n",
              "        }\n",
              "      </script>\n",
              "    </div>\n",
              "  </div>\n",
              "  "
            ]
          },
          "metadata": {},
          "execution_count": 11
        }
      ]
    },
    {
      "cell_type": "code",
      "source": [
        "df['time_signature'].value_counts()"
      ],
      "metadata": {
        "colab": {
          "base_uri": "https://localhost:8080/"
        },
        "id": "hRXFkN48VyCO",
        "outputId": "d68f4805-2120-4544-f5ca-38c444cd9024"
      },
      "execution_count": null,
      "outputs": [
        {
          "output_type": "execute_result",
          "data": {
            "text/plain": [
              "4    40427\n",
              "3     1219\n",
              "5      509\n",
              "1      150\n",
              "Name: time_signature, dtype: int64"
            ]
          },
          "metadata": {},
          "execution_count": 12
        }
      ]
    },
    {
      "cell_type": "markdown",
      "source": [
        "#### #dropping time_signature because of imbalance"
      ],
      "metadata": {
        "id": "FLRL-qclsLvs"
      }
    },
    {
      "cell_type": "code",
      "source": [
        "df.drop('time_signature',axis=1,inplace=True)"
      ],
      "metadata": {
        "id": "jrmECVeyXEY5"
      },
      "execution_count": null,
      "outputs": []
    },
    {
      "cell_type": "code",
      "source": [
        "numerical_features.remove('time_signature')\n",
        "df[numerical_features].sample(5)"
      ],
      "metadata": {
        "colab": {
          "base_uri": "https://localhost:8080/",
          "height": 206
        },
        "id": "eRTWBqlLsj4y",
        "outputId": "690f47fa-15cc-4364-b3ec-7e1f5b30b394"
      },
      "execution_count": null,
      "outputs": [
        {
          "output_type": "execute_result",
          "data": {
            "text/plain": [
              "       danceability  energy  key  loudness  mode  speechiness  acousticness  \\\n",
              "40188         0.602   0.976    8    -2.392     1       0.1710        0.0797   \n",
              "7873          0.814   0.741    1    -6.863     1       0.4300        0.0579   \n",
              "27053         0.694   0.937    7    -9.086     1       0.0365        0.1300   \n",
              "16001         0.821   0.820    1    -1.562     1       0.2330        0.1780   \n",
              "37630         0.505   0.837    4    -2.615     0       0.0441        0.0404   \n",
              "\n",
              "       instrumentalness  liveness  valence    tempo  duration_ms  \n",
              "40188          0.000004    0.1010    0.186  155.038       235383  \n",
              "7873           0.000000    0.2230    0.764  115.211       160869  \n",
              "27053          0.750000    0.6500    0.244  127.980       356650  \n",
              "16001          0.000006    0.1490    0.564  188.100       187400  \n",
              "37630          0.014000    0.0812    0.441  173.974       271724  "
            ],
            "text/html": [
              "\n",
              "  <div id=\"df-6d397915-eaaa-441f-9657-857f4e6c46e9\">\n",
              "    <div class=\"colab-df-container\">\n",
              "      <div>\n",
              "<style scoped>\n",
              "    .dataframe tbody tr th:only-of-type {\n",
              "        vertical-align: middle;\n",
              "    }\n",
              "\n",
              "    .dataframe tbody tr th {\n",
              "        vertical-align: top;\n",
              "    }\n",
              "\n",
              "    .dataframe thead th {\n",
              "        text-align: right;\n",
              "    }\n",
              "</style>\n",
              "<table border=\"1\" class=\"dataframe\">\n",
              "  <thead>\n",
              "    <tr style=\"text-align: right;\">\n",
              "      <th></th>\n",
              "      <th>danceability</th>\n",
              "      <th>energy</th>\n",
              "      <th>key</th>\n",
              "      <th>loudness</th>\n",
              "      <th>mode</th>\n",
              "      <th>speechiness</th>\n",
              "      <th>acousticness</th>\n",
              "      <th>instrumentalness</th>\n",
              "      <th>liveness</th>\n",
              "      <th>valence</th>\n",
              "      <th>tempo</th>\n",
              "      <th>duration_ms</th>\n",
              "    </tr>\n",
              "  </thead>\n",
              "  <tbody>\n",
              "    <tr>\n",
              "      <th>40188</th>\n",
              "      <td>0.602</td>\n",
              "      <td>0.976</td>\n",
              "      <td>8</td>\n",
              "      <td>-2.392</td>\n",
              "      <td>1</td>\n",
              "      <td>0.1710</td>\n",
              "      <td>0.0797</td>\n",
              "      <td>0.000004</td>\n",
              "      <td>0.1010</td>\n",
              "      <td>0.186</td>\n",
              "      <td>155.038</td>\n",
              "      <td>235383</td>\n",
              "    </tr>\n",
              "    <tr>\n",
              "      <th>7873</th>\n",
              "      <td>0.814</td>\n",
              "      <td>0.741</td>\n",
              "      <td>1</td>\n",
              "      <td>-6.863</td>\n",
              "      <td>1</td>\n",
              "      <td>0.4300</td>\n",
              "      <td>0.0579</td>\n",
              "      <td>0.000000</td>\n",
              "      <td>0.2230</td>\n",
              "      <td>0.764</td>\n",
              "      <td>115.211</td>\n",
              "      <td>160869</td>\n",
              "    </tr>\n",
              "    <tr>\n",
              "      <th>27053</th>\n",
              "      <td>0.694</td>\n",
              "      <td>0.937</td>\n",
              "      <td>7</td>\n",
              "      <td>-9.086</td>\n",
              "      <td>1</td>\n",
              "      <td>0.0365</td>\n",
              "      <td>0.1300</td>\n",
              "      <td>0.750000</td>\n",
              "      <td>0.6500</td>\n",
              "      <td>0.244</td>\n",
              "      <td>127.980</td>\n",
              "      <td>356650</td>\n",
              "    </tr>\n",
              "    <tr>\n",
              "      <th>16001</th>\n",
              "      <td>0.821</td>\n",
              "      <td>0.820</td>\n",
              "      <td>1</td>\n",
              "      <td>-1.562</td>\n",
              "      <td>1</td>\n",
              "      <td>0.2330</td>\n",
              "      <td>0.1780</td>\n",
              "      <td>0.000006</td>\n",
              "      <td>0.1490</td>\n",
              "      <td>0.564</td>\n",
              "      <td>188.100</td>\n",
              "      <td>187400</td>\n",
              "    </tr>\n",
              "    <tr>\n",
              "      <th>37630</th>\n",
              "      <td>0.505</td>\n",
              "      <td>0.837</td>\n",
              "      <td>4</td>\n",
              "      <td>-2.615</td>\n",
              "      <td>0</td>\n",
              "      <td>0.0441</td>\n",
              "      <td>0.0404</td>\n",
              "      <td>0.014000</td>\n",
              "      <td>0.0812</td>\n",
              "      <td>0.441</td>\n",
              "      <td>173.974</td>\n",
              "      <td>271724</td>\n",
              "    </tr>\n",
              "  </tbody>\n",
              "</table>\n",
              "</div>\n",
              "      <button class=\"colab-df-convert\" onclick=\"convertToInteractive('df-6d397915-eaaa-441f-9657-857f4e6c46e9')\"\n",
              "              title=\"Convert this dataframe to an interactive table.\"\n",
              "              style=\"display:none;\">\n",
              "        \n",
              "  <svg xmlns=\"http://www.w3.org/2000/svg\" height=\"24px\"viewBox=\"0 0 24 24\"\n",
              "       width=\"24px\">\n",
              "    <path d=\"M0 0h24v24H0V0z\" fill=\"none\"/>\n",
              "    <path d=\"M18.56 5.44l.94 2.06.94-2.06 2.06-.94-2.06-.94-.94-2.06-.94 2.06-2.06.94zm-11 1L8.5 8.5l.94-2.06 2.06-.94-2.06-.94L8.5 2.5l-.94 2.06-2.06.94zm10 10l.94 2.06.94-2.06 2.06-.94-2.06-.94-.94-2.06-.94 2.06-2.06.94z\"/><path d=\"M17.41 7.96l-1.37-1.37c-.4-.4-.92-.59-1.43-.59-.52 0-1.04.2-1.43.59L10.3 9.45l-7.72 7.72c-.78.78-.78 2.05 0 2.83L4 21.41c.39.39.9.59 1.41.59.51 0 1.02-.2 1.41-.59l7.78-7.78 2.81-2.81c.8-.78.8-2.07 0-2.86zM5.41 20L4 18.59l7.72-7.72 1.47 1.35L5.41 20z\"/>\n",
              "  </svg>\n",
              "      </button>\n",
              "      \n",
              "  <style>\n",
              "    .colab-df-container {\n",
              "      display:flex;\n",
              "      flex-wrap:wrap;\n",
              "      gap: 12px;\n",
              "    }\n",
              "\n",
              "    .colab-df-convert {\n",
              "      background-color: #E8F0FE;\n",
              "      border: none;\n",
              "      border-radius: 50%;\n",
              "      cursor: pointer;\n",
              "      display: none;\n",
              "      fill: #1967D2;\n",
              "      height: 32px;\n",
              "      padding: 0 0 0 0;\n",
              "      width: 32px;\n",
              "    }\n",
              "\n",
              "    .colab-df-convert:hover {\n",
              "      background-color: #E2EBFA;\n",
              "      box-shadow: 0px 1px 2px rgba(60, 64, 67, 0.3), 0px 1px 3px 1px rgba(60, 64, 67, 0.15);\n",
              "      fill: #174EA6;\n",
              "    }\n",
              "\n",
              "    [theme=dark] .colab-df-convert {\n",
              "      background-color: #3B4455;\n",
              "      fill: #D2E3FC;\n",
              "    }\n",
              "\n",
              "    [theme=dark] .colab-df-convert:hover {\n",
              "      background-color: #434B5C;\n",
              "      box-shadow: 0px 1px 3px 1px rgba(0, 0, 0, 0.15);\n",
              "      filter: drop-shadow(0px 1px 2px rgba(0, 0, 0, 0.3));\n",
              "      fill: #FFFFFF;\n",
              "    }\n",
              "  </style>\n",
              "\n",
              "      <script>\n",
              "        const buttonEl =\n",
              "          document.querySelector('#df-6d397915-eaaa-441f-9657-857f4e6c46e9 button.colab-df-convert');\n",
              "        buttonEl.style.display =\n",
              "          google.colab.kernel.accessAllowed ? 'block' : 'none';\n",
              "\n",
              "        async function convertToInteractive(key) {\n",
              "          const element = document.querySelector('#df-6d397915-eaaa-441f-9657-857f4e6c46e9');\n",
              "          const dataTable =\n",
              "            await google.colab.kernel.invokeFunction('convertToInteractive',\n",
              "                                                     [key], {});\n",
              "          if (!dataTable) return;\n",
              "\n",
              "          const docLinkHtml = 'Like what you see? Visit the ' +\n",
              "            '<a target=\"_blank\" href=https://colab.research.google.com/notebooks/data_table.ipynb>data table notebook</a>'\n",
              "            + ' to learn more about interactive tables.';\n",
              "          element.innerHTML = '';\n",
              "          dataTable['output_type'] = 'display_data';\n",
              "          await google.colab.output.renderOutput(dataTable, element);\n",
              "          const docLink = document.createElement('div');\n",
              "          docLink.innerHTML = docLinkHtml;\n",
              "          element.appendChild(docLink);\n",
              "        }\n",
              "      </script>\n",
              "    </div>\n",
              "  </div>\n",
              "  "
            ]
          },
          "metadata": {},
          "execution_count": 14
        }
      ]
    },
    {
      "cell_type": "code",
      "source": [
        "df['key'].value_counts()"
      ],
      "metadata": {
        "colab": {
          "base_uri": "https://localhost:8080/"
        },
        "id": "WIi-hAiSss95",
        "outputId": "b28f4a85-e3f3-408b-e04f-ff1bf2b82471"
      },
      "execution_count": null,
      "outputs": [
        {
          "output_type": "execute_result",
          "data": {
            "text/plain": [
              "1     7537\n",
              "7     4275\n",
              "11    4150\n",
              "6     3714\n",
              "0     3470\n",
              "8     3345\n",
              "9     3254\n",
              "10    3251\n",
              "2     3047\n",
              "5     2994\n",
              "4     2368\n",
              "3      900\n",
              "Name: key, dtype: int64"
            ]
          },
          "metadata": {},
          "execution_count": 15
        }
      ]
    },
    {
      "cell_type": "markdown",
      "source": [
        "## #Plotting Graphs"
      ],
      "metadata": {
        "id": "M0XEFh1ltZbo"
      }
    },
    {
      "cell_type": "code",
      "source": [
        "for feature in numerical_features:\n",
        "  sns.histplot(data=df, x=feature, kde=True,color='orange')\n",
        "  plt.show()"
      ],
      "metadata": {
        "colab": {
          "base_uri": "https://localhost:8080/",
          "height": 1000
        },
        "id": "ky9nR5jOtNZ_",
        "outputId": "edf9217e-3158-4fa8-911a-c3cd088c3daa"
      },
      "execution_count": null,
      "outputs": [
        {
          "output_type": "display_data",
          "data": {
            "text/plain": [
              "<Figure size 432x288 with 1 Axes>"
            ],
            "image/png": "[encoded data removed]"
          },
          "metadata": {}
        },
        {
          "output_type": "display_data",
          "data": {
            "text/plain": [
              "<Figure size 432x288 with 1 Axes>"
            ],
            "image/png": "[encoded data removed]"
          },
          "metadata": {}
        },
        {
          "output_type": "display_data",
          "data": {
            "text/plain": [
              "<Figure size 432x288 with 1 Axes>"
            ],
            "image/png": "[encoded data removed]"
          },
          "metadata": {}
        },
        {
          "output_type": "display_data",
          "data": {
            "text/plain": [
              "<Figure size 432x288 with 1 Axes>"
            ],
            "image/png": "[encoded data removed]"
          },
          "metadata": {}
        },
        {
          "output_type": "display_data",
          "data": {
            "text/plain": [
              "<Figure size 432x288 with 1 Axes>"
            ],
            "image/png": "[encoded data removed]"
          },
          "metadata": {}
        },
        {
          "output_type": "display_data",
          "data": {
            "text/plain": [
              "<Figure size 432x288 with 1 Axes>"
            ],
            "image/png": "[encoded data removed]"
          },
          "metadata": {}
        },
        {
          "output_type": "display_data",
          "data": {
            "text/plain": [
              "<Figure size 432x288 with 1 Axes>"
            ],
            "image/png": "[encoded data removed]"
          },
          "metadata": {}
        },
        {
          "output_type": "display_data",
          "data": {
            "text/plain": [
              "<Figure size 432x288 with 1 Axes>"
            ],
            "image/png": "[encoded data removed]"
          },
          "metadata": {}
        },
        {
          "output_type": "display_data",
          "data": {
            "text/plain": [
              "<Figure size 432x288 with 1 Axes>"
            ],
            "image/png": "[encoded data removed]"
          },
          "metadata": {}
        },
        {
          "output_type": "display_data",
          "data": {
            "text/plain": [
              "<Figure size 432x288 with 1 Axes>"
            ],
            "image/png": "[encoded data removed]"
          },
          "metadata": {}
        },
        {
          "output_type": "display_data",
          "data": {
            "text/plain": [
              "<Figure size 432x288 with 1 Axes>"
            ],
            "image/png": "[encoded data removed]"
          },
          "metadata": {}
        },
        {
          "output_type": "display_data",
          "data": {
            "text/plain": [
              "<Figure size 432x288 with 1 Axes>"
            ],
            "image/png": "[encoded data removed]"
          },
          "metadata": {}
        }
      ]
    },
    {
      "cell_type": "code",
      "source": [
        "categorical_data = [col for col in df.columns if col not in numerical_features]"
      ],
      "metadata": {
        "id": "BVQggG_pwPKq"
      },
      "execution_count": null,
      "outputs": []
    },
    {
      "cell_type": "code",
      "source": [
        "df[categorical_data].sample(5)"
      ],
      "metadata": {
        "colab": {
          "base_uri": "https://localhost:8080/",
          "height": 357
        },
        "id": "0v1lwJs30drk",
        "outputId": "9a3788bf-c6e4-43a2-cbd6-39b4fd2d34c0"
      },
      "execution_count": null,
      "outputs": [
        {
          "output_type": "execute_result",
          "data": {
            "text/plain": [
              "                 type                      id  \\\n",
              "14568  audio_features  7KlDO6XfnKc9Pec7ao2QzQ   \n",
              "20376  audio_features  1jaTQ3nqY3oAAYyCTbIvnM   \n",
              "8016   audio_features  7iMDaY1LnASwCk2uUpMtii   \n",
              "24815  audio_features  6SqyJmFBLOveNyhpSSUabp   \n",
              "25056  audio_features  1lAY1rur9A16aX98iskTbE   \n",
              "\n",
              "                                        uri  \\\n",
              "14568  spotify:track:7KlDO6XfnKc9Pec7ao2QzQ   \n",
              "20376  spotify:track:1jaTQ3nqY3oAAYyCTbIvnM   \n",
              "8016   spotify:track:7iMDaY1LnASwCk2uUpMtii   \n",
              "24815  spotify:track:6SqyJmFBLOveNyhpSSUabp   \n",
              "25056  spotify:track:1lAY1rur9A16aX98iskTbE   \n",
              "\n",
              "                                              track_href  \\\n",
              "14568  https://api.spotify.com/v1/tracks/7KlDO6XfnKc9...   \n",
              "20376  https://api.spotify.com/v1/tracks/1jaTQ3nqY3oA...   \n",
              "8016   https://api.spotify.com/v1/tracks/7iMDaY1LnASw...   \n",
              "24815  https://api.spotify.com/v1/tracks/6SqyJmFBLOve...   \n",
              "25056  https://api.spotify.com/v1/tracks/1lAY1rur9A16...   \n",
              "\n",
              "                                            analysis_url            genre  \n",
              "14568  https://api.spotify.com/v1/audio-analysis/7KlD...              Rap  \n",
              "20376  https://api.spotify.com/v1/audio-analysis/1jaT...           Hiphop  \n",
              "8016   https://api.spotify.com/v1/audio-analysis/7iMD...  Underground Rap  \n",
              "24815  https://api.spotify.com/v1/audio-analysis/6Sqy...           techno  \n",
              "25056  https://api.spotify.com/v1/audio-analysis/1lAY...           techno  "
            ],
            "text/html": [
              "\n",
              "  <div id=\"df-d22d7d78-dcb0-4cb6-abac-90ab5988c969\">\n",
              "    <div class=\"colab-df-container\">\n",
              "      <div>\n",
              "<style scoped>\n",
              "    .dataframe tbody tr th:only-of-type {\n",
              "        vertical-align: middle;\n",
              "    }\n",
              "\n",
              "    .dataframe tbody tr th {\n",
              "        vertical-align: top;\n",
              "    }\n",
              "\n",
              "    .dataframe thead th {\n",
              "        text-align: right;\n",
              "    }\n",
              "</style>\n",
              "<table border=\"1\" class=\"dataframe\">\n",
              "  <thead>\n",
              "    <tr style=\"text-align: right;\">\n",
              "      <th></th>\n",
              "      <th>type</th>\n",
              "      <th>id</th>\n",
              "      <th>uri</th>\n",
              "      <th>track_href</th>\n",
              "      <th>analysis_url</th>\n",
              "      <th>genre</th>\n",
              "    </tr>\n",
              "  </thead>\n",
              "  <tbody>\n",
              "    <tr>\n",
              "      <th>14568</th>\n",
              "      <td>audio_features</td>\n",
              "      <td>7KlDO6XfnKc9Pec7ao2QzQ</td>\n",
              "      <td>spotify:track:7KlDO6XfnKc9Pec7ao2QzQ</td>\n",
              "      <td>https://api.spotify.com/v1/tracks/7KlDO6XfnKc9...</td>\n",
              "      <td>https://api.spotify.com/v1/audio-analysis/7KlD...</td>\n",
              "      <td>Rap</td>\n",
              "    </tr>\n",
              "    <tr>\n",
              "      <th>20376</th>\n",
              "      <td>audio_features</td>\n",
              "      <td>1jaTQ3nqY3oAAYyCTbIvnM</td>\n",
              "      <td>spotify:track:1jaTQ3nqY3oAAYyCTbIvnM</td>\n",
              "      <td>https://api.spotify.com/v1/tracks/1jaTQ3nqY3oA...</td>\n",
              "      <td>https://api.spotify.com/v1/audio-analysis/1jaT...</td>\n",
              "      <td>Hiphop</td>\n",
              "    </tr>\n",
              "    <tr>\n",
              "      <th>8016</th>\n",
              "      <td>audio_features</td>\n",
              "      <td>7iMDaY1LnASwCk2uUpMtii</td>\n",
              "      <td>spotify:track:7iMDaY1LnASwCk2uUpMtii</td>\n",
              "      <td>https://api.spotify.com/v1/tracks/7iMDaY1LnASw...</td>\n",
              "      <td>https://api.spotify.com/v1/audio-analysis/7iMD...</td>\n",
              "      <td>Underground Rap</td>\n",
              "    </tr>\n",
              "    <tr>\n",
              "      <th>24815</th>\n",
              "      <td>audio_features</td>\n",
              "      <td>6SqyJmFBLOveNyhpSSUabp</td>\n",
              "      <td>spotify:track:6SqyJmFBLOveNyhpSSUabp</td>\n",
              "      <td>https://api.spotify.com/v1/tracks/6SqyJmFBLOve...</td>\n",
              "      <td>https://api.spotify.com/v1/audio-analysis/6Sqy...</td>\n",
              "      <td>techno</td>\n",
              "    </tr>\n",
              "    <tr>\n",
              "      <th>25056</th>\n",
              "      <td>audio_features</td>\n",
              "      <td>1lAY1rur9A16aX98iskTbE</td>\n",
              "      <td>spotify:track:1lAY1rur9A16aX98iskTbE</td>\n",
              "      <td>https://api.spotify.com/v1/tracks/1lAY1rur9A16...</td>\n",
              "      <td>https://api.spotify.com/v1/audio-analysis/1lAY...</td>\n",
              "      <td>techno</td>\n",
              "    </tr>\n",
              "  </tbody>\n",
              "</table>\n",
              "</div>\n",
              "      <button class=\"colab-df-convert\" onclick=\"convertToInteractive('df-d22d7d78-dcb0-4cb6-abac-90ab5988c969')\"\n",
              "              title=\"Convert this dataframe to an interactive table.\"\n",
              "              style=\"display:none;\">\n",
              "        \n",
              "  <svg xmlns=\"http://www.w3.org/2000/svg\" height=\"24px\"viewBox=\"0 0 24 24\"\n",
              "       width=\"24px\">\n",
              "    <path d=\"M0 0h24v24H0V0z\" fill=\"none\"/>\n",
              "    <path d=\"M18.56 5.44l.94 2.06.94-2.06 2.06-.94-2.06-.94-.94-2.06-.94 2.06-2.06.94zm-11 1L8.5 8.5l.94-2.06 2.06-.94-2.06-.94L8.5 2.5l-.94 2.06-2.06.94zm10 10l.94 2.06.94-2.06 2.06-.94-2.06-.94-.94-2.06-.94 2.06-2.06.94z\"/><path d=\"M17.41 7.96l-1.37-1.37c-.4-.4-.92-.59-1.43-.59-.52 0-1.04.2-1.43.59L10.3 9.45l-7.72 7.72c-.78.78-.78 2.05 0 2.83L4 21.41c.39.39.9.59 1.41.59.51 0 1.02-.2 1.41-.59l7.78-7.78 2.81-2.81c.8-.78.8-2.07 0-2.86zM5.41 20L4 18.59l7.72-7.72 1.47 1.35L5.41 20z\"/>\n",
              "  </svg>\n",
              "      </button>\n",
              "      \n",
              "  <style>\n",
              "    .colab-df-container {\n",
              "      display:flex;\n",
              "      flex-wrap:wrap;\n",
              "      gap: 12px;\n",
              "    }\n",
              "\n",
              "    .colab-df-convert {\n",
              "      background-color: #E8F0FE;\n",
              "      border: none;\n",
              "      border-radius: 50%;\n",
              "      cursor: pointer;\n",
              "      display: none;\n",
              "      fill: #1967D2;\n",
              "      height: 32px;\n",
              "      padding: 0 0 0 0;\n",
              "      width: 32px;\n",
              "    }\n",
              "\n",
              "    .colab-df-convert:hover {\n",
              "      background-color: #E2EBFA;\n",
              "      box-shadow: 0px 1px 2px rgba(60, 64, 67, 0.3), 0px 1px 3px 1px rgba(60, 64, 67, 0.15);\n",
              "      fill: #174EA6;\n",
              "    }\n",
              "\n",
              "    [theme=dark] .colab-df-convert {\n",
              "      background-color: #3B4455;\n",
              "      fill: #D2E3FC;\n",
              "    }\n",
              "\n",
              "    [theme=dark] .colab-df-convert:hover {\n",
              "      background-color: #434B5C;\n",
              "      box-shadow: 0px 1px 3px 1px rgba(0, 0, 0, 0.15);\n",
              "      filter: drop-shadow(0px 1px 2px rgba(0, 0, 0, 0.3));\n",
              "      fill: #FFFFFF;\n",
              "    }\n",
              "  </style>\n",
              "\n",
              "      <script>\n",
              "        const buttonEl =\n",
              "          document.querySelector('#df-d22d7d78-dcb0-4cb6-abac-90ab5988c969 button.colab-df-convert');\n",
              "        buttonEl.style.display =\n",
              "          google.colab.kernel.accessAllowed ? 'block' : 'none';\n",
              "\n",
              "        async function convertToInteractive(key) {\n",
              "          const element = document.querySelector('#df-d22d7d78-dcb0-4cb6-abac-90ab5988c969');\n",
              "          const dataTable =\n",
              "            await google.colab.kernel.invokeFunction('convertToInteractive',\n",
              "                                                     [key], {});\n",
              "          if (!dataTable) return;\n",
              "\n",
              "          const docLinkHtml = 'Like what you see? Visit the ' +\n",
              "            '<a target=\"_blank\" href=https://colab.research.google.com/notebooks/data_table.ipynb>data table notebook</a>'\n",
              "            + ' to learn more about interactive tables.';\n",
              "          element.innerHTML = '';\n",
              "          dataTable['output_type'] = 'display_data';\n",
              "          await google.colab.output.renderOutput(dataTable, element);\n",
              "          const docLink = document.createElement('div');\n",
              "          docLink.innerHTML = docLinkHtml;\n",
              "          element.appendChild(docLink);\n",
              "        }\n",
              "      </script>\n",
              "    </div>\n",
              "  </div>\n",
              "  "
            ]
          },
          "metadata": {},
          "execution_count": 18
        }
      ]
    },
    {
      "cell_type": "code",
      "source": [
        "df['type'].value_counts()"
      ],
      "metadata": {
        "colab": {
          "base_uri": "https://localhost:8080/"
        },
        "id": "fBvv7Vaf0pDZ",
        "outputId": "564ed218-c213-43a2-a122-c2c7f8173118"
      },
      "execution_count": null,
      "outputs": [
        {
          "output_type": "execute_result",
          "data": {
            "text/plain": [
              "audio_features    42305\n",
              "Name: type, dtype: int64"
            ]
          },
          "metadata": {},
          "execution_count": 19
        }
      ]
    },
    {
      "cell_type": "code",
      "source": [
        "df.drop('type',axis=1,inplace=True)"
      ],
      "metadata": {
        "id": "OtxFskH70vOO"
      },
      "execution_count": null,
      "outputs": []
    },
    {
      "cell_type": "code",
      "source": [
        "categorical_data.remove('type')"
      ],
      "metadata": {
        "id": "G0Zbftyg2Hi9"
      },
      "execution_count": null,
      "outputs": []
    },
    {
      "cell_type": "code",
      "source": [
        "df['genre'].value_counts()"
      ],
      "metadata": {
        "colab": {
          "base_uri": "https://localhost:8080/"
        },
        "id": "zWKEMOyT0-YK",
        "outputId": "6068cbf1-fa40-4518-8e4b-d33322c2f8f7"
      },
      "execution_count": null,
      "outputs": [
        {
          "output_type": "execute_result",
          "data": {
            "text/plain": [
              "Underground Rap    5875\n",
              "Dark Trap          4578\n",
              "Hiphop             3028\n",
              "trance             2999\n",
              "trap               2987\n",
              "techhouse          2975\n",
              "dnb                2966\n",
              "psytrance          2961\n",
              "techno             2956\n",
              "hardstyle          2936\n",
              "RnB                2099\n",
              "Trap Metal         1956\n",
              "Rap                1848\n",
              "Emo                1680\n",
              "Pop                 461\n",
              "Name: genre, dtype: int64"
            ]
          },
          "metadata": {},
          "execution_count": 22
        }
      ]
    },
    {
      "cell_type": "markdown",
      "source": [
        "## #One hot Encoding for genre "
      ],
      "metadata": {
        "id": "IStOVsM_1fCt"
      }
    },
    {
      "cell_type": "code",
      "source": [
        "df = pd.get_dummies(df, columns = ['genre'])"
      ],
      "metadata": {
        "id": "Vu0OCbtJ1WnI"
      },
      "execution_count": null,
      "outputs": []
    },
    {
      "cell_type": "markdown",
      "source": [
        "## #Checking for normalisation"
      ],
      "metadata": {
        "id": "MLqx_ree23uH"
      }
    },
    {
      "cell_type": "code",
      "source": [
        "for feature in numerical_features:\n",
        "  print(feature,': ',df[feature].min(), \" \", df[feature].max())"
      ],
      "metadata": {
        "colab": {
          "base_uri": "https://localhost:8080/"
        },
        "id": "3Sr2cdI32GHs",
        "outputId": "e215a004-5788-4e5f-efad-f366ac6d1746"
      },
      "execution_count": null,
      "outputs": [
        {
          "output_type": "stream",
          "name": "stdout",
          "text": [
            "danceability :  0.0651   0.988\n",
            "energy :  0.000243   1.0\n",
            "key :  0   11\n",
            "loudness :  -33.357   3.148\n",
            "mode :  0   1\n",
            "speechiness :  0.0227   0.946\n",
            "acousticness :  1.07e-06   0.988\n",
            "instrumentalness :  0.0   0.989\n",
            "liveness :  0.0107   0.988\n",
            "valence :  0.0187   0.988\n",
            "tempo :  57.967   220.29\n",
            "duration_ms :  25600   913052\n"
          ]
        }
      ]
    },
    {
      "cell_type": "markdown",
      "source": [
        "#### #loudness, tempo and duration_ms needs to be normalised"
      ],
      "metadata": {
        "id": "v16a8tHl4NBF"
      }
    },
    {
      "cell_type": "markdown",
      "source": [
        "(due to imbalanced dataset we are choosing normalisation over standardisation"
      ],
      "metadata": {
        "id": "5g5EvmS2C_TG"
      }
    },
    {
      "cell_type": "code",
      "source": [
        "data = df.copy()\n",
        "for feature in ['loudness','tempo','duration_ms']:\n",
        "  data[feature] = (data[feature]-data[feature].min())/(data[feature].max()-df[feature].min())"
      ],
      "metadata": {
        "id": "FmgysI1k4MVG"
      },
      "execution_count": null,
      "outputs": []
    },
    {
      "cell_type": "code",
      "source": [
        "from sklearn.neighbors import NearestNeighbors\n",
        "model_knn = NearestNeighbors(metric='cosine', algorithm='brute', n_neighbors=20)"
      ],
      "metadata": {
        "id": "JUUkYGIF3ULh"
      },
      "execution_count": null,
      "outputs": []
    },
    {
      "cell_type": "code",
      "source": [
        "data.columns"
      ],
      "metadata": {
        "colab": {
          "base_uri": "https://localhost:8080/"
        },
        "id": "dJ5ciBa7ES12",
        "outputId": "f3133a08-a7f6-4b75-9274-92b589f10ae0"
      },
      "execution_count": null,
      "outputs": [
        {
          "output_type": "execute_result",
          "data": {
            "text/plain": [
              "Index(['danceability', 'energy', 'key', 'loudness', 'mode', 'speechiness',\n",
              "       'acousticness', 'instrumentalness', 'liveness', 'valence', 'tempo',\n",
              "       'id', 'uri', 'track_href', 'analysis_url', 'duration_ms',\n",
              "       'genre_Dark Trap', 'genre_Emo', 'genre_Hiphop', 'genre_Pop',\n",
              "       'genre_Rap', 'genre_RnB', 'genre_Trap Metal', 'genre_Underground Rap',\n",
              "       'genre_dnb', 'genre_hardstyle', 'genre_psytrance', 'genre_techhouse',\n",
              "       'genre_techno', 'genre_trance', 'genre_trap'],\n",
              "      dtype='object')"
            ]
          },
          "metadata": {},
          "execution_count": 27
        }
      ]
    },
    {
      "cell_type": "code",
      "source": [
        "categorical_data"
      ],
      "metadata": {
        "colab": {
          "base_uri": "https://localhost:8080/"
        },
        "id": "zHeOom40Gaon",
        "outputId": "a573303b-cd31-470c-8e64-727573471d39"
      },
      "execution_count": null,
      "outputs": [
        {
          "output_type": "execute_result",
          "data": {
            "text/plain": [
              "['id', 'uri', 'track_href', 'analysis_url', 'genre']"
            ]
          },
          "metadata": {},
          "execution_count": 28
        }
      ]
    },
    {
      "cell_type": "code",
      "source": [
        "pd.set_option('display.max_columns', None)"
      ],
      "metadata": {
        "id": "YyVnbfPOHxfw"
      },
      "execution_count": null,
      "outputs": []
    },
    {
      "cell_type": "code",
      "source": [
        "data.drop(['uri','track_href','analysis_url'],axis=1,inplace=True)"
      ],
      "metadata": {
        "id": "2PYO0J-9GowH"
      },
      "execution_count": null,
      "outputs": []
    },
    {
      "cell_type": "code",
      "source": [
        "X = data.drop('id',axis=1)\n",
        "X.sample(2)"
      ],
      "metadata": {
        "colab": {
          "base_uri": "https://localhost:8080/",
          "height": 193
        },
        "id": "u4N_DBcSHypN",
        "outputId": "1149dfdd-4769-4d6d-9b1d-b4e19e65e89c"
      },
      "execution_count": null,
      "outputs": [
        {
          "output_type": "execute_result",
          "data": {
            "text/plain": [
              "       danceability  energy  key  loudness  mode  speechiness  acousticness  \\\n",
              "16564         0.338   0.639   11  0.723654     1         0.20        0.0234   \n",
              "17115         0.505   0.267    9  0.536748     0         0.05        0.2790   \n",
              "\n",
              "       instrumentalness  liveness  valence     tempo  duration_ms  \\\n",
              "16564          0.000003     0.435    0.513  0.784615     0.239712   \n",
              "17115          0.000000     0.096    0.439  0.529574     0.249568   \n",
              "\n",
              "       genre_Dark Trap  genre_Emo  genre_Hiphop  genre_Pop  genre_Rap  \\\n",
              "16564                0          0             0          0          0   \n",
              "17115                0          0             0          0          0   \n",
              "\n",
              "       genre_RnB  genre_Trap Metal  genre_Underground Rap  genre_dnb  \\\n",
              "16564          1                 0                      0          0   \n",
              "17115          1                 0                      0          0   \n",
              "\n",
              "       genre_hardstyle  genre_psytrance  genre_techhouse  genre_techno  \\\n",
              "16564                0                0                0             0   \n",
              "17115                0                0                0             0   \n",
              "\n",
              "       genre_trance  genre_trap  \n",
              "16564             0           0  \n",
              "17115             0           0  "
            ],
            "text/html": [
              "\n",
              "  <div id=\"df-fdd0af4a-5644-47fd-8434-02ef342172ce\">\n",
              "    <div class=\"colab-df-container\">\n",
              "      <div>\n",
              "<style scoped>\n",
              "    .dataframe tbody tr th:only-of-type {\n",
              "        vertical-align: middle;\n",
              "    }\n",
              "\n",
              "    .dataframe tbody tr th {\n",
              "        vertical-align: top;\n",
              "    }\n",
              "\n",
              "    .dataframe thead th {\n",
              "        text-align: right;\n",
              "    }\n",
              "</style>\n",
              "<table border=\"1\" class=\"dataframe\">\n",
              "  <thead>\n",
              "    <tr style=\"text-align: right;\">\n",
              "      <th></th>\n",
              "      <th>danceability</th>\n",
              "      <th>energy</th>\n",
              "      <th>key</th>\n",
              "      <th>loudness</th>\n",
              "      <th>mode</th>\n",
              "      <th>speechiness</th>\n",
              "      <th>acousticness</th>\n",
              "      <th>instrumentalness</th>\n",
              "      <th>liveness</th>\n",
              "      <th>valence</th>\n",
              "      <th>tempo</th>\n",
              "      <th>duration_ms</th>\n",
              "      <th>genre_Dark Trap</th>\n",
              "      <th>genre_Emo</th>\n",
              "      <th>genre_Hiphop</th>\n",
              "      <th>genre_Pop</th>\n",
              "      <th>genre_Rap</th>\n",
              "      <th>genre_RnB</th>\n",
              "      <th>genre_Trap Metal</th>\n",
              "      <th>genre_Underground Rap</th>\n",
              "      <th>genre_dnb</th>\n",
              "      <th>genre_hardstyle</th>\n",
              "      <th>genre_psytrance</th>\n",
              "      <th>genre_techhouse</th>\n",
              "      <th>genre_techno</th>\n",
              "      <th>genre_trance</th>\n",
              "      <th>genre_trap</th>\n",
              "    </tr>\n",
              "  </thead>\n",
              "  <tbody>\n",
              "    <tr>\n",
              "      <th>16564</th>\n",
              "      <td>0.338</td>\n",
              "      <td>0.639</td>\n",
              "      <td>11</td>\n",
              "      <td>0.723654</td>\n",
              "      <td>1</td>\n",
              "      <td>0.20</td>\n",
              "      <td>0.0234</td>\n",
              "      <td>0.000003</td>\n",
              "      <td>0.435</td>\n",
              "      <td>0.513</td>\n",
              "      <td>0.784615</td>\n",
              "      <td>0.239712</td>\n",
              "      <td>0</td>\n",
              "      <td>0</td>\n",
              "      <td>0</td>\n",
              "      <td>0</td>\n",
              "      <td>0</td>\n",
              "      <td>1</td>\n",
              "      <td>0</td>\n",
              "      <td>0</td>\n",
              "      <td>0</td>\n",
              "      <td>0</td>\n",
              "      <td>0</td>\n",
              "      <td>0</td>\n",
              "      <td>0</td>\n",
              "      <td>0</td>\n",
              "      <td>0</td>\n",
              "    </tr>\n",
              "    <tr>\n",
              "      <th>17115</th>\n",
              "      <td>0.505</td>\n",
              "      <td>0.267</td>\n",
              "      <td>9</td>\n",
              "      <td>0.536748</td>\n",
              "      <td>0</td>\n",
              "      <td>0.05</td>\n",
              "      <td>0.2790</td>\n",
              "      <td>0.000000</td>\n",
              "      <td>0.096</td>\n",
              "      <td>0.439</td>\n",
              "      <td>0.529574</td>\n",
              "      <td>0.249568</td>\n",
              "      <td>0</td>\n",
              "      <td>0</td>\n",
              "      <td>0</td>\n",
              "      <td>0</td>\n",
              "      <td>0</td>\n",
              "      <td>1</td>\n",
              "      <td>0</td>\n",
              "      <td>0</td>\n",
              "      <td>0</td>\n",
              "      <td>0</td>\n",
              "      <td>0</td>\n",
              "      <td>0</td>\n",
              "      <td>0</td>\n",
              "      <td>0</td>\n",
              "      <td>0</td>\n",
              "    </tr>\n",
              "  </tbody>\n",
              "</table>\n",
              "</div>\n",
              "      <button class=\"colab-df-convert\" onclick=\"convertToInteractive('df-fdd0af4a-5644-47fd-8434-02ef342172ce')\"\n",
              "              title=\"Convert this dataframe to an interactive table.\"\n",
              "              style=\"display:none;\">\n",
              "        \n",
              "  <svg xmlns=\"http://www.w3.org/2000/svg\" height=\"24px\"viewBox=\"0 0 24 24\"\n",
              "       width=\"24px\">\n",
              "    <path d=\"M0 0h24v24H0V0z\" fill=\"none\"/>\n",
              "    <path d=\"M18.56 5.44l.94 2.06.94-2.06 2.06-.94-2.06-.94-.94-2.06-.94 2.06-2.06.94zm-11 1L8.5 8.5l.94-2.06 2.06-.94-2.06-.94L8.5 2.5l-.94 2.06-2.06.94zm10 10l.94 2.06.94-2.06 2.06-.94-2.06-.94-.94-2.06-.94 2.06-2.06.94z\"/><path d=\"M17.41 7.96l-1.37-1.37c-.4-.4-.92-.59-1.43-.59-.52 0-1.04.2-1.43.59L10.3 9.45l-7.72 7.72c-.78.78-.78 2.05 0 2.83L4 21.41c.39.39.9.59 1.41.59.51 0 1.02-.2 1.41-.59l7.78-7.78 2.81-2.81c.8-.78.8-2.07 0-2.86zM5.41 20L4 18.59l7.72-7.72 1.47 1.35L5.41 20z\"/>\n",
              "  </svg>\n",
              "      </button>\n",
              "      \n",
              "  <style>\n",
              "    .colab-df-container {\n",
              "      display:flex;\n",
              "      flex-wrap:wrap;\n",
              "      gap: 12px;\n",
              "    }\n",
              "\n",
              "    .colab-df-convert {\n",
              "      background-color: #E8F0FE;\n",
              "      border: none;\n",
              "      border-radius: 50%;\n",
              "      cursor: pointer;\n",
              "      display: none;\n",
              "      fill: #1967D2;\n",
              "      height: 32px;\n",
              "      padding: 0 0 0 0;\n",
              "      width: 32px;\n",
              "    }\n",
              "\n",
              "    .colab-df-convert:hover {\n",
              "      background-color: #E2EBFA;\n",
              "      box-shadow: 0px 1px 2px rgba(60, 64, 67, 0.3), 0px 1px 3px 1px rgba(60, 64, 67, 0.15);\n",
              "      fill: #174EA6;\n",
              "    }\n",
              "\n",
              "    [theme=dark] .colab-df-convert {\n",
              "      background-color: #3B4455;\n",
              "      fill: #D2E3FC;\n",
              "    }\n",
              "\n",
              "    [theme=dark] .colab-df-convert:hover {\n",
              "      background-color: #434B5C;\n",
              "      box-shadow: 0px 1px 3px 1px rgba(0, 0, 0, 0.15);\n",
              "      filter: drop-shadow(0px 1px 2px rgba(0, 0, 0, 0.3));\n",
              "      fill: #FFFFFF;\n",
              "    }\n",
              "  </style>\n",
              "\n",
              "      <script>\n",
              "        const buttonEl =\n",
              "          document.querySelector('#df-fdd0af4a-5644-47fd-8434-02ef342172ce button.colab-df-convert');\n",
              "        buttonEl.style.display =\n",
              "          google.colab.kernel.accessAllowed ? 'block' : 'none';\n",
              "\n",
              "        async function convertToInteractive(key) {\n",
              "          const element = document.querySelector('#df-fdd0af4a-5644-47fd-8434-02ef342172ce');\n",
              "          const dataTable =\n",
              "            await google.colab.kernel.invokeFunction('convertToInteractive',\n",
              "                                                     [key], {});\n",
              "          if (!dataTable) return;\n",
              "\n",
              "          const docLinkHtml = 'Like what you see? Visit the ' +\n",
              "            '<a target=\"_blank\" href=https://colab.research.google.com/notebooks/data_table.ipynb>data table notebook</a>'\n",
              "            + ' to learn more about interactive tables.';\n",
              "          element.innerHTML = '';\n",
              "          dataTable['output_type'] = 'display_data';\n",
              "          await google.colab.output.renderOutput(dataTable, element);\n",
              "          const docLink = document.createElement('div');\n",
              "          docLink.innerHTML = docLinkHtml;\n",
              "          element.appendChild(docLink);\n",
              "        }\n",
              "      </script>\n",
              "    </div>\n",
              "  </div>\n",
              "  "
            ]
          },
          "metadata": {},
          "execution_count": 31
        }
      ]
    },
    {
      "cell_type": "code",
      "source": [
        "X=X.to_numpy()"
      ],
      "metadata": {
        "id": "6l5qj2s2IFct"
      },
      "execution_count": null,
      "outputs": []
    },
    {
      "cell_type": "code",
      "source": [
        "x = X.astype(np.float32)"
      ],
      "metadata": {
        "id": "uXpe38L9NoTm"
      },
      "execution_count": null,
      "outputs": []
    },
    {
      "cell_type": "markdown",
      "source": [
        "converted to float32 as RAM was not able to handle float64"
      ],
      "metadata": {
        "id": "qtRTOOvAN7M6"
      }
    },
    {
      "cell_type": "code",
      "source": [
        "from sklearn.metrics.pairwise import cosine_similarity"
      ],
      "metadata": {
        "id": "3UwMkIAwJOHW"
      },
      "execution_count": null,
      "outputs": []
    },
    {
      "cell_type": "code",
      "source": [
        "similarity_array = cosine_similarity(x)"
      ],
      "metadata": {
        "id": "7lFrE8QiJdq0"
      },
      "execution_count": null,
      "outputs": []
    },
    {
      "cell_type": "code",
      "source": [
        "from numpy import save\n",
        "save('similarity_array.npy', similarity_array)"
      ],
      "metadata": {
        "id": "aeS_5eznJg20"
      },
      "execution_count": null,
      "outputs": []
    },
    {
      "cell_type": "code",
      "source": [],
      "metadata": {
        "colab": {
          "base_uri": "https://localhost:8080/",
          "height": 35
        },
        "id": "csj6a-GbAidp",
        "outputId": "709f1431-3b53-4c36-9110-6cb72580d59b"
      },
      "execution_count": null,
      "outputs": [
        {
          "output_type": "execute_result",
          "data": {
            "text/plain": [
              "'Kid Cudi (Remix)'"
            ],
            "application/vnd.google.colaboratory.intrinsic+json": {
              "type": "string"
            }
          },
          "metadata": {},
          "execution_count": 60
        }
      ]
    },
    {
      "cell_type": "code",
      "source": [
        "def recommend(song):\n",
        "  id = df2.loc[df2['song_name']==song].id.values[0]\n",
        "  index = data[data['id']==id].index[0]\n",
        "  distances = similarity_array[index]\n",
        "  music_list = sorted(list(enumerate(distances)),reverse=True, key=lambda x:x[1])[1:6]\n",
        "  for i in music_list:\n",
        "    print( \"ID: \", data.iloc[i[0]].id, \" \", \"song_name: \", df2.loc[df2['id']==data.iloc[i[0]].id].song_name.values[0])"
      ],
      "metadata": {
        "id": "fF8kmGeVPNni"
      },
      "execution_count": null,
      "outputs": []
    },
    {
      "cell_type": "code",
      "source": [
        "data.head(2)"
      ],
      "metadata": {
        "colab": {
          "base_uri": "https://localhost:8080/",
          "height": 193
        },
        "id": "CyVN6whC-mx6",
        "outputId": "38035746-0da3-44e2-8f73-bf8b8138fbd8"
      },
      "execution_count": null,
      "outputs": [
        {
          "output_type": "execute_result",
          "data": {
            "text/plain": [
              "   danceability  energy  key  loudness  mode  speechiness  acousticness  \\\n",
              "0         0.831   0.814    2  0.712039     1       0.4200        0.0598   \n",
              "1         0.719   0.493    8  0.715710     1       0.0794        0.4010   \n",
              "\n",
              "   instrumentalness  liveness  valence     tempo                      id  \\\n",
              "0            0.0134    0.0556    0.389  0.610006  2Vc6NJ9PW9gD9q343XFRKx   \n",
              "1            0.0000    0.1180    0.124  0.351848  7pgJBLVz5VmnL7uGHmRj6p   \n",
              "\n",
              "   duration_ms  genre_Dark Trap  genre_Emo  genre_Hiphop  genre_Pop  \\\n",
              "0     0.111487                1          0             0          0   \n",
              "1     0.224043                1          0             0          0   \n",
              "\n",
              "   genre_Rap  genre_RnB  genre_Trap Metal  genre_Underground Rap  genre_dnb  \\\n",
              "0          0          0                 0                      0          0   \n",
              "1          0          0                 0                      0          0   \n",
              "\n",
              "   genre_hardstyle  genre_psytrance  genre_techhouse  genre_techno  \\\n",
              "0                0                0                0             0   \n",
              "1                0                0                0             0   \n",
              "\n",
              "   genre_trance  genre_trap  \n",
              "0             0           0  \n",
              "1             0           0  "
            ],
            "text/html": [
              "\n",
              "  <div id=\"df-c9fb6f8d-d048-432f-a120-f69dc62f6187\">\n",
              "    <div class=\"colab-df-container\">\n",
              "      <div>\n",
              "<style scoped>\n",
              "    .dataframe tbody tr th:only-of-type {\n",
              "        vertical-align: middle;\n",
              "    }\n",
              "\n",
              "    .dataframe tbody tr th {\n",
              "        vertical-align: top;\n",
              "    }\n",
              "\n",
              "    .dataframe thead th {\n",
              "        text-align: right;\n",
              "    }\n",
              "</style>\n",
              "<table border=\"1\" class=\"dataframe\">\n",
              "  <thead>\n",
              "    <tr style=\"text-align: right;\">\n",
              "      <th></th>\n",
              "      <th>danceability</th>\n",
              "      <th>energy</th>\n",
              "      <th>key</th>\n",
              "      <th>loudness</th>\n",
              "      <th>mode</th>\n",
              "      <th>speechiness</th>\n",
              "      <th>acousticness</th>\n",
              "      <th>instrumentalness</th>\n",
              "      <th>liveness</th>\n",
              "      <th>valence</th>\n",
              "      <th>tempo</th>\n",
              "      <th>id</th>\n",
              "      <th>duration_ms</th>\n",
              "      <th>genre_Dark Trap</th>\n",
              "      <th>genre_Emo</th>\n",
              "      <th>genre_Hiphop</th>\n",
              "      <th>genre_Pop</th>\n",
              "      <th>genre_Rap</th>\n",
              "      <th>genre_RnB</th>\n",
              "      <th>genre_Trap Metal</th>\n",
              "      <th>genre_Underground Rap</th>\n",
              "      <th>genre_dnb</th>\n",
              "      <th>genre_hardstyle</th>\n",
              "      <th>genre_psytrance</th>\n",
              "      <th>genre_techhouse</th>\n",
              "      <th>genre_techno</th>\n",
              "      <th>genre_trance</th>\n",
              "      <th>genre_trap</th>\n",
              "    </tr>\n",
              "  </thead>\n",
              "  <tbody>\n",
              "    <tr>\n",
              "      <th>0</th>\n",
              "      <td>0.831</td>\n",
              "      <td>0.814</td>\n",
              "      <td>2</td>\n",
              "      <td>0.712039</td>\n",
              "      <td>1</td>\n",
              "      <td>0.4200</td>\n",
              "      <td>0.0598</td>\n",
              "      <td>0.0134</td>\n",
              "      <td>0.0556</td>\n",
              "      <td>0.389</td>\n",
              "      <td>0.610006</td>\n",
              "      <td>2Vc6NJ9PW9gD9q343XFRKx</td>\n",
              "      <td>0.111487</td>\n",
              "      <td>1</td>\n",
              "      <td>0</td>\n",
              "      <td>0</td>\n",
              "      <td>0</td>\n",
              "      <td>0</td>\n",
              "      <td>0</td>\n",
              "      <td>0</td>\n",
              "      <td>0</td>\n",
              "      <td>0</td>\n",
              "      <td>0</td>\n",
              "      <td>0</td>\n",
              "      <td>0</td>\n",
              "      <td>0</td>\n",
              "      <td>0</td>\n",
              "      <td>0</td>\n",
              "    </tr>\n",
              "    <tr>\n",
              "      <th>1</th>\n",
              "      <td>0.719</td>\n",
              "      <td>0.493</td>\n",
              "      <td>8</td>\n",
              "      <td>0.715710</td>\n",
              "      <td>1</td>\n",
              "      <td>0.0794</td>\n",
              "      <td>0.4010</td>\n",
              "      <td>0.0000</td>\n",
              "      <td>0.1180</td>\n",
              "      <td>0.124</td>\n",
              "      <td>0.351848</td>\n",
              "      <td>7pgJBLVz5VmnL7uGHmRj6p</td>\n",
              "      <td>0.224043</td>\n",
              "      <td>1</td>\n",
              "      <td>0</td>\n",
              "      <td>0</td>\n",
              "      <td>0</td>\n",
              "      <td>0</td>\n",
              "      <td>0</td>\n",
              "      <td>0</td>\n",
              "      <td>0</td>\n",
              "      <td>0</td>\n",
              "      <td>0</td>\n",
              "      <td>0</td>\n",
              "      <td>0</td>\n",
              "      <td>0</td>\n",
              "      <td>0</td>\n",
              "      <td>0</td>\n",
              "    </tr>\n",
              "  </tbody>\n",
              "</table>\n",
              "</div>\n",
              "      <button class=\"colab-df-convert\" onclick=\"convertToInteractive('df-c9fb6f8d-d048-432f-a120-f69dc62f6187')\"\n",
              "              title=\"Convert this dataframe to an interactive table.\"\n",
              "              style=\"display:none;\">\n",
              "        \n",
              "  <svg xmlns=\"http://www.w3.org/2000/svg\" height=\"24px\"viewBox=\"0 0 24 24\"\n",
              "       width=\"24px\">\n",
              "    <path d=\"M0 0h24v24H0V0z\" fill=\"none\"/>\n",
              "    <path d=\"M18.56 5.44l.94 2.06.94-2.06 2.06-.94-2.06-.94-.94-2.06-.94 2.06-2.06.94zm-11 1L8.5 8.5l.94-2.06 2.06-.94-2.06-.94L8.5 2.5l-.94 2.06-2.06.94zm10 10l.94 2.06.94-2.06 2.06-.94-2.06-.94-.94-2.06-.94 2.06-2.06.94z\"/><path d=\"M17.41 7.96l-1.37-1.37c-.4-.4-.92-.59-1.43-.59-.52 0-1.04.2-1.43.59L10.3 9.45l-7.72 7.72c-.78.78-.78 2.05 0 2.83L4 21.41c.39.39.9.59 1.41.59.51 0 1.02-.2 1.41-.59l7.78-7.78 2.81-2.81c.8-.78.8-2.07 0-2.86zM5.41 20L4 18.59l7.72-7.72 1.47 1.35L5.41 20z\"/>\n",
              "  </svg>\n",
              "      </button>\n",
              "      \n",
              "  <style>\n",
              "    .colab-df-container {\n",
              "      display:flex;\n",
              "      flex-wrap:wrap;\n",
              "      gap: 12px;\n",
              "    }\n",
              "\n",
              "    .colab-df-convert {\n",
              "      background-color: #E8F0FE;\n",
              "      border: none;\n",
              "      border-radius: 50%;\n",
              "      cursor: pointer;\n",
              "      display: none;\n",
              "      fill: #1967D2;\n",
              "      height: 32px;\n",
              "      padding: 0 0 0 0;\n",
              "      width: 32px;\n",
              "    }\n",
              "\n",
              "    .colab-df-convert:hover {\n",
              "      background-color: #E2EBFA;\n",
              "      box-shadow: 0px 1px 2px rgba(60, 64, 67, 0.3), 0px 1px 3px 1px rgba(60, 64, 67, 0.15);\n",
              "      fill: #174EA6;\n",
              "    }\n",
              "\n",
              "    [theme=dark] .colab-df-convert {\n",
              "      background-color: #3B4455;\n",
              "      fill: #D2E3FC;\n",
              "    }\n",
              "\n",
              "    [theme=dark] .colab-df-convert:hover {\n",
              "      background-color: #434B5C;\n",
              "      box-shadow: 0px 1px 3px 1px rgba(0, 0, 0, 0.15);\n",
              "      filter: drop-shadow(0px 1px 2px rgba(0, 0, 0, 0.3));\n",
              "      fill: #FFFFFF;\n",
              "    }\n",
              "  </style>\n",
              "\n",
              "      <script>\n",
              "        const buttonEl =\n",
              "          document.querySelector('#df-c9fb6f8d-d048-432f-a120-f69dc62f6187 button.colab-df-convert');\n",
              "        buttonEl.style.display =\n",
              "          google.colab.kernel.accessAllowed ? 'block' : 'none';\n",
              "\n",
              "        async function convertToInteractive(key) {\n",
              "          const element = document.querySelector('#df-c9fb6f8d-d048-432f-a120-f69dc62f6187');\n",
              "          const dataTable =\n",
              "            await google.colab.kernel.invokeFunction('convertToInteractive',\n",
              "                                                     [key], {});\n",
              "          if (!dataTable) return;\n",
              "\n",
              "          const docLinkHtml = 'Like what you see? Visit the ' +\n",
              "            '<a target=\"_blank\" href=https://colab.research.google.com/notebooks/data_table.ipynb>data table notebook</a>'\n",
              "            + ' to learn more about interactive tables.';\n",
              "          element.innerHTML = '';\n",
              "          dataTable['output_type'] = 'display_data';\n",
              "          await google.colab.output.renderOutput(dataTable, element);\n",
              "          const docLink = document.createElement('div');\n",
              "          docLink.innerHTML = docLinkHtml;\n",
              "          element.appendChild(docLink);\n",
              "        }\n",
              "      </script>\n",
              "    </div>\n",
              "  </div>\n",
              "  "
            ]
          },
          "metadata": {},
          "execution_count": 39
        }
      ]
    },
    {
      "cell_type": "code",
      "source": [
        "recommend('Slidin')"
      ],
      "metadata": {
        "colab": {
          "base_uri": "https://localhost:8080/"
        },
        "id": "e53eTPMx-jgd",
        "outputId": "bc8ed517-edc9-40e8-ab5a-0764ff77c723"
      },
      "execution_count": null,
      "outputs": [
        {
          "output_type": "stream",
          "name": "stdout",
          "text": [
            "ID:  2Vc6NJ9PW9gD9q343XFRKx   song_name:  Mercury: Retrograde\n",
            "ID:  5XdMhCdREbGcpG5TmRVrUd   song_name:  Kid Cudi (Remix)\n",
            "ID:  33SrgtChN6gVkB7XfD6vKx   song_name:  Daddy Issues\n",
            "ID:  5Ysq5wZM9uFeH2lKOBVlah   song_name:  GreyGods (feat. $Uicideboy$)\n",
            "ID:  3xLDsDAlh3FPCGhvaEte0T   song_name:  Lil Parachute\n"
          ]
        }
      ]
    },
    {
      "cell_type": "code",
      "source": [],
      "metadata": {
        "id": "ZktfYUxh-wZx"
      },
      "execution_count": null,
      "outputs": []
    }
  ]
}